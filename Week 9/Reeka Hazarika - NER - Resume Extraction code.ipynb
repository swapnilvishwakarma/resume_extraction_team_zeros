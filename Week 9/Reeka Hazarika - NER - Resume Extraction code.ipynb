{
 "cells": [
  {
   "cell_type": "markdown",
   "metadata": {},
   "source": [
    "# Reeka Hazarika\n",
    "## Project Name : NLP - Resume Extraction"
   ]
  },
  {
   "cell_type": "markdown",
   "metadata": {},
   "source": [
    "## Week 8 & Week 9 - Data Cleansing and Transformation"
   ]
  },
  {
   "cell_type": "code",
   "execution_count": 1,
   "metadata": {},
   "outputs": [],
   "source": [
    "import pandas as pd\n",
    "df = pd.read_json (r'C:/Users/HAZARIKA/Desktop/Resume.json',lines=True)\n",
    "df.to_csv (r'dataframe.csv', sep=\"\\t\", index = None)"
   ]
  },
  {
   "cell_type": "code",
   "execution_count": 2,
   "metadata": {},
   "outputs": [
    {
     "data": {
      "text/html": [
       "<div>\n",
       "<style scoped>\n",
       "    .dataframe tbody tr th:only-of-type {\n",
       "        vertical-align: middle;\n",
       "    }\n",
       "\n",
       "    .dataframe tbody tr th {\n",
       "        vertical-align: top;\n",
       "    }\n",
       "\n",
       "    .dataframe thead th {\n",
       "        text-align: right;\n",
       "    }\n",
       "</style>\n",
       "<table border=\"1\" class=\"dataframe\">\n",
       "  <thead>\n",
       "    <tr style=\"text-align: right;\">\n",
       "      <th></th>\n",
       "      <th>content</th>\n",
       "      <th>annotation</th>\n",
       "    </tr>\n",
       "  </thead>\n",
       "  <tbody>\n",
       "    <tr>\n",
       "      <th>0</th>\n",
       "      <td>Govardhana K\\nSenior Software Engineer\\n\\nBeng...</td>\n",
       "      <td>[{'label': ['Companies worked at'], 'points': ...</td>\n",
       "    </tr>\n",
       "    <tr>\n",
       "      <th>1</th>\n",
       "      <td>Harini Komaravelli\\nTest Analyst at Oracle, Hy...</td>\n",
       "      <td>[{'label': ['Companies worked at'], 'points': ...</td>\n",
       "    </tr>\n",
       "    <tr>\n",
       "      <th>2</th>\n",
       "      <td>Hartej Kathuria\\nData Analyst Intern - Oracle ...</td>\n",
       "      <td>[{'label': ['Skills'], 'points': [{'start': 22...</td>\n",
       "    </tr>\n",
       "    <tr>\n",
       "      <th>3</th>\n",
       "      <td>Ijas Nizamuddin\\nAssociate Consultant - State ...</td>\n",
       "      <td>[{'label': ['Skills'], 'points': [{'start': 46...</td>\n",
       "    </tr>\n",
       "    <tr>\n",
       "      <th>4</th>\n",
       "      <td>Imgeeyaul Ansari\\njava developer\\n\\nPune, Maha...</td>\n",
       "      <td>[{'label': ['Skills'], 'points': [{'start': 18...</td>\n",
       "    </tr>\n",
       "    <tr>\n",
       "      <th>...</th>\n",
       "      <td>...</td>\n",
       "      <td>...</td>\n",
       "    </tr>\n",
       "    <tr>\n",
       "      <th>195</th>\n",
       "      <td>Mansi Thanki\\nStudent\\n\\nJamnagar, Gujarat - E...</td>\n",
       "      <td>[{'label': ['College Name'], 'points': [{'star...</td>\n",
       "    </tr>\n",
       "    <tr>\n",
       "      <th>196</th>\n",
       "      <td>Anil Kumar\\nMicrosoft Azure (Basic Management)...</td>\n",
       "      <td>[{'label': ['Location'], 'points': [{'start': ...</td>\n",
       "    </tr>\n",
       "    <tr>\n",
       "      <th>197</th>\n",
       "      <td>Siddharth Choudhary\\nMicrosoft Office Suite - ...</td>\n",
       "      <td>[{'label': ['Skills'], 'points': [{'start': 78...</td>\n",
       "    </tr>\n",
       "    <tr>\n",
       "      <th>198</th>\n",
       "      <td>Valarmathi Dhandapani\\nInvestment Banking Oper...</td>\n",
       "      <td>[{'label': ['Skills'], 'points': [{'start': 92...</td>\n",
       "    </tr>\n",
       "    <tr>\n",
       "      <th>199</th>\n",
       "      <td>Pradeep Kumar\\nSecurity Analyst in Infosys - C...</td>\n",
       "      <td>[{'label': ['Skills'], 'points': [{'start': 58...</td>\n",
       "    </tr>\n",
       "  </tbody>\n",
       "</table>\n",
       "<p>200 rows × 2 columns</p>\n",
       "</div>"
      ],
      "text/plain": [
       "                                               content  \\\n",
       "0    Govardhana K\\nSenior Software Engineer\\n\\nBeng...   \n",
       "1    Harini Komaravelli\\nTest Analyst at Oracle, Hy...   \n",
       "2    Hartej Kathuria\\nData Analyst Intern - Oracle ...   \n",
       "3    Ijas Nizamuddin\\nAssociate Consultant - State ...   \n",
       "4    Imgeeyaul Ansari\\njava developer\\n\\nPune, Maha...   \n",
       "..                                                 ...   \n",
       "195  Mansi Thanki\\nStudent\\n\\nJamnagar, Gujarat - E...   \n",
       "196  Anil Kumar\\nMicrosoft Azure (Basic Management)...   \n",
       "197  Siddharth Choudhary\\nMicrosoft Office Suite - ...   \n",
       "198  Valarmathi Dhandapani\\nInvestment Banking Oper...   \n",
       "199  Pradeep Kumar\\nSecurity Analyst in Infosys - C...   \n",
       "\n",
       "                                            annotation  \n",
       "0    [{'label': ['Companies worked at'], 'points': ...  \n",
       "1    [{'label': ['Companies worked at'], 'points': ...  \n",
       "2    [{'label': ['Skills'], 'points': [{'start': 22...  \n",
       "3    [{'label': ['Skills'], 'points': [{'start': 46...  \n",
       "4    [{'label': ['Skills'], 'points': [{'start': 18...  \n",
       "..                                                 ...  \n",
       "195  [{'label': ['College Name'], 'points': [{'star...  \n",
       "196  [{'label': ['Location'], 'points': [{'start': ...  \n",
       "197  [{'label': ['Skills'], 'points': [{'start': 78...  \n",
       "198  [{'label': ['Skills'], 'points': [{'start': 92...  \n",
       "199  [{'label': ['Skills'], 'points': [{'start': 58...  \n",
       "\n",
       "[200 rows x 2 columns]"
      ]
     },
     "execution_count": 2,
     "metadata": {},
     "output_type": "execute_result"
    }
   ],
   "source": [
    "df"
   ]
  },
  {
   "cell_type": "code",
   "execution_count": 3,
   "metadata": {},
   "outputs": [
    {
     "data": {
      "text/plain": [
       "(200, 2)"
      ]
     },
     "execution_count": 3,
     "metadata": {},
     "output_type": "execute_result"
    }
   ],
   "source": [
    "df.shape"
   ]
  },
  {
   "cell_type": "code",
   "execution_count": 4,
   "metadata": {},
   "outputs": [
    {
     "data": {
      "text/plain": [
       "content       0\n",
       "annotation    0\n",
       "dtype: int64"
      ]
     },
     "execution_count": 4,
     "metadata": {},
     "output_type": "execute_result"
    }
   ],
   "source": [
    "df.isnull().sum() #NAs"
   ]
  },
  {
   "cell_type": "code",
   "execution_count": 5,
   "metadata": {},
   "outputs": [],
   "source": [
    "# Function to get the size of dataset\n",
    "\n",
    "def humanbytes(B):\n",
    "   'Return the given bytes as a human friendly KB, MB, GB, or TB string'\n",
    "   B = float(B)\n",
    "   KB = float(1024)\n",
    "   MB = float(KB ** 2) # 1,048,576\n",
    "   GB = float(KB ** 3) # 1,073,741,824\n",
    "   TB = float(KB ** 4) # 1,099,511,627,776\n",
    "\n",
    "   if B < KB:\n",
    "      return '{0} {1}'.format(B,'Bytes' if 0 == B > 1 else 'Byte')\n",
    "   elif KB <= B < MB:\n",
    "      return '{0:.2f} KB'.format(B/KB)\n",
    "   elif MB <= B < GB:\n",
    "      return '{0:.2f} MB'.format(B/MB)\n",
    "   elif GB <= B < TB:\n",
    "      return '{0:.2f} GB'.format(B/GB)\n",
    "   elif TB <= B:\n",
    "      return '{0:.2f} TB'.format(B/TB)"
   ]
  },
  {
   "cell_type": "code",
   "execution_count": 6,
   "metadata": {},
   "outputs": [
    {
     "name": "stdout",
     "output_type": "stream",
     "text": [
      "1.41 MB\n"
     ]
    }
   ],
   "source": [
    "size = df.memory_usage(deep=True).sum() #Size of the Dataset\n",
    "file_size = humanbytes(size)\n",
    "print(file_size)"
   ]
  },
  {
   "cell_type": "code",
   "execution_count": 7,
   "metadata": {},
   "outputs": [
    {
     "data": {
      "text/plain": [
       "'Govardhana K\\nSenior Software Engineer\\n\\nBengaluru, Karnataka, Karnataka - Email me on Indeed: indeed.com/r/Govardhana-K/\\nb2de315d95905b68\\n\\nTotal IT experience 5 Years 6 Months\\nCloud Lending Solutions INC 4 Month • Salesforce Developer\\nOracle 5 Years 2 Month • Core Java Developer\\nLanguages Core Java, Go Lang\\nOracle PL-SQL programming,\\nSales Force Developer with APEX.\\n\\nDesignations & Promotions\\n\\nWilling to relocate: Anywhere\\n\\nWORK EXPERIENCE\\n\\nSenior Software Engineer\\n\\nCloud Lending Solutions -  Bangalore, Karnataka -\\n\\nJanuary 2018 to Present\\n\\nPresent\\n\\nSenior Consultant\\n\\nOracle -  Bangalore, Karnataka -\\n\\nNovember 2016 to December 2017\\n\\nStaff Consultant\\n\\nOracle -  Bangalore, Karnataka -\\n\\nJanuary 2014 to October 2016\\n\\nAssociate Consultant\\n\\nOracle -  Bangalore, Karnataka -\\n\\nNovember 2012 to December 2013\\n\\nEDUCATION\\n\\nB.E in Computer Science Engineering\\n\\nAdithya Institute of Technology -  Tamil Nadu\\n\\nSeptember 2008 to June 2012\\n\\nhttps://www.indeed.com/r/Govardhana-K/b2de315d95905b68?isid=rex-download&ikw=download-top&co=IN\\nhttps://www.indeed.com/r/Govardhana-K/b2de315d95905b68?isid=rex-download&ikw=download-top&co=IN\\n\\n\\nSKILLS\\n\\nAPEX. (Less than 1 year), Data Structures (3 years), FLEXCUBE (5 years), Oracle (5 years),\\nAlgorithms (3 years)\\n\\nLINKS\\n\\nhttps://www.linkedin.com/in/govardhana-k-61024944/\\n\\nADDITIONAL INFORMATION\\n\\nTechnical Proficiency:\\n\\nLanguages: Core Java, Go Lang, Data Structures & Algorithms, Oracle\\nPL-SQL programming, Sales Force with APEX.\\nTools: RADTool, Jdeveloper, NetBeans, Eclipse, SQL developer,\\nPL/SQL Developer, WinSCP, Putty\\nWeb Technologies: JavaScript, XML, HTML, Webservice\\n\\nOperating Systems: Linux, Windows\\nVersion control system SVN & Git-Hub\\nDatabases: Oracle\\nMiddleware: Web logic, OC4J\\nProduct FLEXCUBE: Oracle FLEXCUBE Versions 10.x, 11.x and 12.x\\n\\nhttps://www.linkedin.com/in/govardhana-k-61024944/'"
      ]
     },
     "execution_count": 7,
     "metadata": {},
     "output_type": "execute_result"
    }
   ],
   "source": [
    "df.content[0]"
   ]
  },
  {
   "cell_type": "markdown",
   "metadata": {},
   "source": [
    "# Data Preprocessing - \n",
    "## Used Tokenization, POS Tag, Stopwords, Lemmatization , TF-IDF & Word2Vec.\n",
    "## Note:\n",
    "## Not used \"Bag of Words\" as it does not show proper representation of words with only 1 & 0 vectors in comparison to TF-IDF & Word2Vec.\n",
    "## Not used \"Stemming\" as it does not show meaningful words in comparison to Lemmatization."
   ]
  },
  {
   "cell_type": "code",
   "execution_count": 8,
   "metadata": {},
   "outputs": [
    {
     "name": "stderr",
     "output_type": "stream",
     "text": [
      "[nltk_data] Downloading package punkt to\n",
      "[nltk_data]     C:\\Users\\HAZARIKA\\AppData\\Roaming\\nltk_data...\n",
      "[nltk_data]   Package punkt is already up-to-date!\n"
     ]
    }
   ],
   "source": [
    "import nltk\n",
    "from nltk.tokenize import word_tokenize\n",
    "nltk.download('punkt')\n",
    "from nltk.tag import pos_tag"
   ]
  },
  {
   "cell_type": "code",
   "execution_count": 9,
   "metadata": {},
   "outputs": [],
   "source": [
    "from nltk.corpus import stopwords\n",
    "import re\n",
    "from nltk.stem import WordNetLemmatizer\n",
    "clean=[]"
   ]
  },
  {
   "cell_type": "markdown",
   "metadata": {},
   "source": [
    "## Stopwords, Lemmatization & Wordnet"
   ]
  },
  {
   "cell_type": "code",
   "execution_count": 10,
   "metadata": {},
   "outputs": [
    {
     "name": "stderr",
     "output_type": "stream",
     "text": [
      "[nltk_data] Downloading package stopwords to\n",
      "[nltk_data]     C:\\Users\\HAZARIKA\\AppData\\Roaming\\nltk_data...\n",
      "[nltk_data]   Package stopwords is already up-to-date!\n",
      "[nltk_data] Downloading package wordnet to\n",
      "[nltk_data]     C:\\Users\\HAZARIKA\\AppData\\Roaming\\nltk_data...\n",
      "[nltk_data]   Package wordnet is already up-to-date!\n"
     ]
    }
   ],
   "source": [
    "import nltk\n",
    "nltk.download('stopwords')\n",
    "nltk.download('wordnet')\n",
    "for i in range(0,200):\n",
    "    review = re.sub('(@[A-Za-z0-9]+)|([^0-9A-Za-z \\t])|(\\w+:\\/\\/\\S+)|^rt|http.+?\"', ' ', df['content'][i])\n",
    "    review = review.lower()\n",
    "    review = review.split()\n",
    "    lm= WordNetLemmatizer() \n",
    "    review = [lm.lemmatize(word) for word in review if not word in set(stopwords.words('english'))]\n",
    "    review = ' '.join(review)\n",
    "    clean.append(review)"
   ]
  },
  {
   "cell_type": "markdown",
   "metadata": {},
   "source": [
    "## TF-IDF Vectorization"
   ]
  },
  {
   "cell_type": "code",
   "execution_count": 12,
   "metadata": {},
   "outputs": [
    {
     "name": "stdout",
     "output_type": "stream",
     "text": [
      "[[0. 0. 0. ... 0. 0. 0.]\n",
      " [0. 0. 0. ... 0. 0. 0.]\n",
      " [0. 0. 0. ... 0. 0. 0.]\n",
      " ...\n",
      " [0. 0. 0. ... 0. 0. 0.]\n",
      " [0. 0. 0. ... 0. 0. 0.]\n",
      " [0. 0. 0. ... 0. 0. 0.]]\n"
     ]
    }
   ],
   "source": [
    "from sklearn.feature_extraction.text import TfidfVectorizer\n",
    "tv = TfidfVectorizer()\n",
    "x=tv.fit_transform(clean).toarray()\n",
    "print(x)"
   ]
  },
  {
   "cell_type": "markdown",
   "metadata": {},
   "source": [
    "## Word2Vec"
   ]
  },
  {
   "cell_type": "code",
   "execution_count": 13,
   "metadata": {},
   "outputs": [],
   "source": [
    "from gensim.models import Word2Vec"
   ]
  },
  {
   "cell_type": "code",
   "execution_count": 14,
   "metadata": {},
   "outputs": [],
   "source": [
    "sentences = nltk.sent_tokenize(review)\n",
    "sentences = [nltk.word_tokenize(sentence) for sentence in sentences]\n",
    "model = Word2Vec(sentences, min_count=1)"
   ]
  },
  {
   "cell_type": "code",
   "execution_count": 15,
   "metadata": {},
   "outputs": [
    {
     "data": {
      "text/plain": [
       "array([-0.00711564,  0.00126712, -0.00718829, -0.00225615,  0.00370245,\n",
       "        0.00578315,  0.00120402,  0.00216535, -0.00409665,  0.00720563,\n",
       "       -0.00633804,  0.00461451, -0.00821366,  0.00204886, -0.00499583,\n",
       "       -0.00428489, -0.0030931 ,  0.00563169,  0.00580617, -0.00500022,\n",
       "        0.00078022, -0.0084769 ,  0.00781403,  0.00923922, -0.00275724,\n",
       "        0.0008126 ,  0.00071129,  0.00549431, -0.00862732,  0.00058151,\n",
       "        0.00686167,  0.00220257,  0.00117862, -0.00936352,  0.0084684 ,\n",
       "       -0.00624412, -0.00297818,  0.00345851, -0.00078243,  0.00136578,\n",
       "        0.00176774, -0.00685023, -0.00972211,  0.00902148,  0.00622661,\n",
       "       -0.00691582,  0.00335744,  0.0001882 ,  0.00476486, -0.00711725,\n",
       "        0.00401011,  0.00434295,  0.00998454, -0.00449922, -0.00135554,\n",
       "       -0.00733079, -0.00967361, -0.00908806, -0.0010564 , -0.00650408,\n",
       "        0.00485717, -0.00618807,  0.00250443,  0.0007724 , -0.00339914,\n",
       "       -0.0009304 ,  0.00999382,  0.00916556, -0.00452577,  0.00913984,\n",
       "       -0.00563512,  0.00593614, -0.00306417,  0.00341669,  0.00305189,\n",
       "        0.00687719, -0.00236533,  0.00878341,  0.00756344, -0.00955376,\n",
       "       -0.00805684, -0.00761633,  0.00286138, -0.00273273, -0.00695771,\n",
       "       -0.00813012,  0.00835305,  0.00202244, -0.0093058 , -0.00475626,\n",
       "        0.00318067, -0.00472022,  0.00529785, -0.00424484,  0.00265378,\n",
       "       -0.00804291,  0.00617381,  0.00483377,  0.00078821,  0.0030073 ],\n",
       "      dtype=float32)"
      ]
     },
     "execution_count": 15,
     "metadata": {},
     "output_type": "execute_result"
    }
   ],
   "source": [
    "#Finding word vector for the word \"experience\"\n",
    "vector = model.wv[\"experience\"]\n",
    "vector"
   ]
  },
  {
   "cell_type": "code",
   "execution_count": 16,
   "metadata": {},
   "outputs": [
    {
     "data": {
      "text/plain": [
       "'govardhana k senior software engineer bengaluru karnataka karnataka email indeed indeed com r govardhana k b2de315d95905b68 total experience 5 year 6 month cloud lending solution inc 4 month salesforce developer oracle 5 year 2 month core java developer language core java go lang oracle pl sql programming sale force developer apex designation promotion willing relocate anywhere work experience senior software engineer cloud lending solution bangalore karnataka january 2018 present present senior consultant oracle bangalore karnataka november 2016 december 2017 staff consultant oracle bangalore karnataka january 2014 october 2016 associate consultant oracle bangalore karnataka november 2012 december 2013 education b e computer science engineering adithya institute technology tamil nadu september 2008 june 2012 skill apex le 1 year data structure 3 year flexcube 5 year oracle 5 year algorithm 3 year link additional information technical proficiency language core java go lang data structure algorithm oracle pl sql programming sale force apex tool radtool jdeveloper netbeans eclipse sql developer pl sql developer winscp putty web technology javascript xml html webservice operating system linux window version control system svn git hub database oracle middleware web logic oc4j product flexcube oracle flexcube version 10 x 11 x 12 x'"
      ]
     },
     "execution_count": 16,
     "metadata": {},
     "output_type": "execute_result"
    }
   ],
   "source": [
    "clean[0]"
   ]
  },
  {
   "cell_type": "code",
   "execution_count": 17,
   "metadata": {},
   "outputs": [],
   "source": [
    "df['cleaned']=clean"
   ]
  },
  {
   "cell_type": "code",
   "execution_count": 18,
   "metadata": {},
   "outputs": [
    {
     "data": {
      "text/html": [
       "<div>\n",
       "<style scoped>\n",
       "    .dataframe tbody tr th:only-of-type {\n",
       "        vertical-align: middle;\n",
       "    }\n",
       "\n",
       "    .dataframe tbody tr th {\n",
       "        vertical-align: top;\n",
       "    }\n",
       "\n",
       "    .dataframe thead th {\n",
       "        text-align: right;\n",
       "    }\n",
       "</style>\n",
       "<table border=\"1\" class=\"dataframe\">\n",
       "  <thead>\n",
       "    <tr style=\"text-align: right;\">\n",
       "      <th></th>\n",
       "      <th>content</th>\n",
       "      <th>annotation</th>\n",
       "      <th>cleaned</th>\n",
       "    </tr>\n",
       "  </thead>\n",
       "  <tbody>\n",
       "    <tr>\n",
       "      <th>0</th>\n",
       "      <td>Govardhana K\\nSenior Software Engineer\\n\\nBeng...</td>\n",
       "      <td>[{'label': ['Companies worked at'], 'points': ...</td>\n",
       "      <td>govardhana k senior software engineer bengalur...</td>\n",
       "    </tr>\n",
       "    <tr>\n",
       "      <th>1</th>\n",
       "      <td>Harini Komaravelli\\nTest Analyst at Oracle, Hy...</td>\n",
       "      <td>[{'label': ['Companies worked at'], 'points': ...</td>\n",
       "      <td>harini komaravelli test analyst oracle hyderab...</td>\n",
       "    </tr>\n",
       "    <tr>\n",
       "      <th>2</th>\n",
       "      <td>Hartej Kathuria\\nData Analyst Intern - Oracle ...</td>\n",
       "      <td>[{'label': ['Skills'], 'points': [{'start': 22...</td>\n",
       "      <td>hartej kathuria data analyst intern oracle ret...</td>\n",
       "    </tr>\n",
       "    <tr>\n",
       "      <th>3</th>\n",
       "      <td>Ijas Nizamuddin\\nAssociate Consultant - State ...</td>\n",
       "      <td>[{'label': ['Skills'], 'points': [{'start': 46...</td>\n",
       "      <td>ijas nizamuddin associate consultant state str...</td>\n",
       "    </tr>\n",
       "    <tr>\n",
       "      <th>4</th>\n",
       "      <td>Imgeeyaul Ansari\\njava developer\\n\\nPune, Maha...</td>\n",
       "      <td>[{'label': ['Skills'], 'points': [{'start': 18...</td>\n",
       "      <td>imgeeyaul ansari java developer pune maharasht...</td>\n",
       "    </tr>\n",
       "  </tbody>\n",
       "</table>\n",
       "</div>"
      ],
      "text/plain": [
       "                                             content  \\\n",
       "0  Govardhana K\\nSenior Software Engineer\\n\\nBeng...   \n",
       "1  Harini Komaravelli\\nTest Analyst at Oracle, Hy...   \n",
       "2  Hartej Kathuria\\nData Analyst Intern - Oracle ...   \n",
       "3  Ijas Nizamuddin\\nAssociate Consultant - State ...   \n",
       "4  Imgeeyaul Ansari\\njava developer\\n\\nPune, Maha...   \n",
       "\n",
       "                                          annotation  \\\n",
       "0  [{'label': ['Companies worked at'], 'points': ...   \n",
       "1  [{'label': ['Companies worked at'], 'points': ...   \n",
       "2  [{'label': ['Skills'], 'points': [{'start': 22...   \n",
       "3  [{'label': ['Skills'], 'points': [{'start': 46...   \n",
       "4  [{'label': ['Skills'], 'points': [{'start': 18...   \n",
       "\n",
       "                                             cleaned  \n",
       "0  govardhana k senior software engineer bengalur...  \n",
       "1  harini komaravelli test analyst oracle hyderab...  \n",
       "2  hartej kathuria data analyst intern oracle ret...  \n",
       "3  ijas nizamuddin associate consultant state str...  \n",
       "4  imgeeyaul ansari java developer pune maharasht...  "
      ]
     },
     "execution_count": 18,
     "metadata": {},
     "output_type": "execute_result"
    }
   ],
   "source": [
    "df.head()"
   ]
  },
  {
   "cell_type": "code",
   "execution_count": 19,
   "metadata": {},
   "outputs": [],
   "source": [
    "import spacy"
   ]
  },
  {
   "cell_type": "code",
   "execution_count": 20,
   "metadata": {},
   "outputs": [],
   "source": [
    "from spacy.lang.en import English"
   ]
  },
  {
   "cell_type": "code",
   "execution_count": 21,
   "metadata": {},
   "outputs": [],
   "source": [
    "nlp = English()\n",
    "\n",
    "text = df['cleaned'][0]\n",
    "\n",
    "my_doc = nlp(text)"
   ]
  },
  {
   "cell_type": "markdown",
   "metadata": {},
   "source": [
    "## Tokenization"
   ]
  },
  {
   "cell_type": "code",
   "execution_count": 22,
   "metadata": {
    "scrolled": true
   },
   "outputs": [
    {
     "name": "stdout",
     "output_type": "stream",
     "text": [
      "['govardhana', 'k', 'senior', 'software', 'engineer', 'bengaluru', 'karnataka', 'karnataka', 'email', 'indeed', 'indeed', 'com', 'r', 'govardhana', 'k', 'b2de315d95905b68', 'total', 'experience', '5', 'year', '6', 'month', 'cloud', 'lending', 'solution', 'inc', '4', 'month', 'salesforce', 'developer', 'oracle', '5', 'year', '2', 'month', 'core', 'java', 'developer', 'language', 'core', 'java', 'go', 'lang', 'oracle', 'pl', 'sql', 'programming', 'sale', 'force', 'developer', 'apex', 'designation', 'promotion', 'willing', 'relocate', 'anywhere', 'work', 'experience', 'senior', 'software', 'engineer', 'cloud', 'lending', 'solution', 'bangalore', 'karnataka', 'january', '2018', 'present', 'present', 'senior', 'consultant', 'oracle', 'bangalore', 'karnataka', 'november', '2016', 'december', '2017', 'staff', 'consultant', 'oracle', 'bangalore', 'karnataka', 'january', '2014', 'october', '2016', 'associate', 'consultant', 'oracle', 'bangalore', 'karnataka', 'november', '2012', 'december', '2013', 'education', 'b', 'e', 'computer', 'science', 'engineering', 'adithya', 'institute', 'technology', 'tamil', 'nadu', 'september', '2008', 'june', '2012', 'skill', 'apex', 'le', '1', 'year', 'data', 'structure', '3', 'year', 'flexcube', '5', 'year', 'oracle', '5', 'year', 'algorithm', '3', 'year', 'link', 'additional', 'information', 'technical', 'proficiency', 'language', 'core', 'java', 'go', 'lang', 'data', 'structure', 'algorithm', 'oracle', 'pl', 'sql', 'programming', 'sale', 'force', 'apex', 'tool', 'radtool', 'jdeveloper', 'netbeans', 'eclipse', 'sql', 'developer', 'pl', 'sql', 'developer', 'winscp', 'putty', 'web', 'technology', 'javascript', 'xml', 'html', 'webservice', 'operating', 'system', 'linux', 'window', 'version', 'control', 'system', 'svn', 'git', 'hub', 'database', 'oracle', 'middleware', 'web', 'logic', 'oc4j', 'product', 'flexcube', 'oracle', 'flexcube', 'version', '10', 'x', '11', 'x', '12', 'x']\n"
     ]
    }
   ],
   "source": [
    "# Create list of word tokens\n",
    "token_list = []\n",
    "for token in my_doc:\n",
    "    token_list.append(token.text)\n",
    "print(token_list)"
   ]
  },
  {
   "cell_type": "markdown",
   "metadata": {},
   "source": [
    "## POS Tag"
   ]
  },
  {
   "cell_type": "code",
   "execution_count": 23,
   "metadata": {},
   "outputs": [
    {
     "data": {
      "text/plain": [
       "govardhana k senior software engineer bengaluru karnataka karnataka email indeed indeed com r govardhana k b2de315d95905b68 total experience 5 year 6 month cloud lending solution inc 4 month salesforce developer oracle 5 year 2 month core java developer language core java go lang oracle pl sql programming sale force developer apex designation promotion willing relocate anywhere work experience senior software engineer cloud lending solution bangalore karnataka january 2018 present present senior consultant oracle bangalore karnataka november 2016 december 2017 staff consultant oracle bangalore karnataka january 2014 october 2016 associate consultant oracle bangalore karnataka november 2012 december 2013 education b e computer science engineering adithya institute technology tamil nadu september 2008 june 2012 skill apex le 1 year data structure 3 year flexcube 5 year oracle 5 year algorithm 3 year link additional information technical proficiency language core java go lang data structure algorithm oracle pl sql programming sale force apex tool radtool jdeveloper netbeans eclipse sql developer pl sql developer winscp putty web technology javascript xml html webservice operating system linux window version control system svn git hub database oracle middleware web logic oc4j product flexcube oracle flexcube version 10 x 11 x 12 x"
      ]
     },
     "execution_count": 23,
     "metadata": {},
     "output_type": "execute_result"
    }
   ],
   "source": [
    "import en_core_web_md\n",
    "\n",
    "# load en_core_web_md of English for vocabluary, syntax & entities\n",
    "nlp = en_core_web_md.load()\n",
    "\n",
    "#  \"nlp\" Object used to create documents with linguistic annotations.\n",
    "docs = nlp(df['cleaned'][0])\n",
    "docs"
   ]
  },
  {
   "cell_type": "code",
   "execution_count": 24,
   "metadata": {},
   "outputs": [
    {
     "name": "stdout",
     "output_type": "stream",
     "text": [
      "govardhana X\n",
      "k X\n",
      "senior ADJ\n",
      "software NOUN\n",
      "engineer NOUN\n",
      "bengaluru NOUN\n",
      "karnataka NOUN\n",
      "karnataka NOUN\n",
      "email NOUN\n",
      "indeed ADV\n",
      "indeed ADV\n",
      "com VERB\n",
      "r X\n",
      "govardhana X\n",
      "k X\n",
      "b2de315d95905b68 PROPN\n",
      "total ADJ\n",
      "experience NOUN\n",
      "5 NUM\n",
      "year NOUN\n",
      "6 NUM\n",
      "month NOUN\n",
      "cloud NOUN\n",
      "lending NOUN\n",
      "solution NOUN\n",
      "inc NOUN\n",
      "4 NUM\n",
      "month NOUN\n",
      "salesforce NOUN\n",
      "developer NOUN\n",
      "oracle NOUN\n",
      "5 NUM\n",
      "year NOUN\n",
      "2 NUM\n",
      "month NOUN\n",
      "core NOUN\n",
      "java NOUN\n",
      "developer NOUN\n",
      "language NOUN\n",
      "core NOUN\n",
      "java NOUN\n",
      "go VERB\n",
      "lang NOUN\n",
      "oracle NOUN\n",
      "pl X\n",
      "sql NOUN\n",
      "programming NOUN\n",
      "sale NOUN\n",
      "force NOUN\n",
      "developer NOUN\n",
      "apex ADJ\n",
      "designation NOUN\n",
      "promotion NOUN\n",
      "willing ADJ\n",
      "relocate VERB\n",
      "anywhere ADV\n",
      "work NOUN\n",
      "experience NOUN\n",
      "senior ADJ\n",
      "software NOUN\n",
      "engineer NOUN\n",
      "cloud NOUN\n",
      "lending NOUN\n",
      "solution NOUN\n",
      "bangalore NOUN\n",
      "karnataka NOUN\n",
      "january NOUN\n",
      "2018 NUM\n",
      "present VERB\n",
      "present ADJ\n",
      "senior ADJ\n",
      "consultant NOUN\n",
      "oracle NOUN\n",
      "bangalore NOUN\n",
      "karnataka NOUN\n",
      "november PROPN\n",
      "2016 NUM\n",
      "december ADP\n",
      "2017 NUM\n",
      "staff NOUN\n",
      "consultant NOUN\n",
      "oracle NOUN\n",
      "bangalore NOUN\n",
      "karnataka NOUN\n",
      "january NOUN\n",
      "2014 NUM\n",
      "october NOUN\n",
      "2016 NUM\n",
      "associate ADJ\n",
      "consultant NOUN\n",
      "oracle NOUN\n",
      "bangalore NOUN\n",
      "karnataka NOUN\n",
      "november NOUN\n",
      "2012 NUM\n",
      "december NOUN\n",
      "2013 NUM\n",
      "education NOUN\n",
      "b NOUN\n",
      "e NOUN\n",
      "computer NOUN\n",
      "science NOUN\n",
      "engineering NOUN\n",
      "adithya PROPN\n",
      "institute NOUN\n",
      "technology NOUN\n",
      "tamil NOUN\n",
      "nadu NOUN\n",
      "september NOUN\n",
      "2008 NUM\n",
      "june NOUN\n",
      "2012 NUM\n",
      "skill NOUN\n",
      "apex ADJ\n",
      "le X\n",
      "1 NUM\n",
      "year NOUN\n",
      "data NOUN\n",
      "structure NOUN\n",
      "3 NUM\n",
      "year NOUN\n",
      "flexcube NOUN\n",
      "5 NUM\n",
      "year NOUN\n",
      "oracle NOUN\n",
      "5 NUM\n",
      "year NOUN\n",
      "algorithm NOUN\n",
      "3 NUM\n",
      "year NOUN\n",
      "link NOUN\n",
      "additional ADJ\n",
      "information NOUN\n",
      "technical ADJ\n",
      "proficiency NOUN\n",
      "language NOUN\n",
      "core NOUN\n",
      "java NOUN\n",
      "go VERB\n",
      "lang NOUN\n",
      "data NOUN\n",
      "structure NOUN\n",
      "algorithm VERB\n",
      "oracle NOUN\n",
      "pl X\n",
      "sql NOUN\n",
      "programming NOUN\n",
      "sale NOUN\n",
      "force NOUN\n",
      "apex ADJ\n",
      "tool NOUN\n",
      "radtool NOUN\n",
      "jdeveloper NOUN\n",
      "netbeans NOUN\n",
      "eclipse NOUN\n",
      "sql NOUN\n",
      "developer NOUN\n",
      "pl X\n",
      "sql NOUN\n",
      "developer NOUN\n",
      "winscp ADV\n",
      "putty NOUN\n",
      "web NOUN\n",
      "technology NOUN\n",
      "javascript NOUN\n",
      "xml NOUN\n",
      "html NOUN\n",
      "webservice NOUN\n",
      "operating NOUN\n",
      "system NOUN\n",
      "linux NOUN\n",
      "window NOUN\n",
      "version NOUN\n",
      "control NOUN\n",
      "system NOUN\n",
      "svn VERB\n",
      "git NOUN\n",
      "hub NOUN\n",
      "database NOUN\n",
      "oracle NOUN\n",
      "middleware NOUN\n",
      "web NOUN\n",
      "logic NOUN\n",
      "oc4j X\n",
      "product NOUN\n",
      "flexcube NOUN\n",
      "oracle NOUN\n",
      "flexcube NOUN\n",
      "version NOUN\n",
      "10 NUM\n",
      "x SYM\n",
      "11 NUM\n",
      "x SYM\n",
      "12 NUM\n",
      "x SYM\n"
     ]
    }
   ],
   "source": [
    "for word in docs:\n",
    "    print(word.text,word.pos_)"
   ]
  },
  {
   "cell_type": "code",
   "execution_count": null,
   "metadata": {},
   "outputs": [],
   "source": []
  }
 ],
 "metadata": {
  "kernelspec": {
   "display_name": "Python 3",
   "language": "python",
   "name": "python3"
  },
  "language_info": {
   "codemirror_mode": {
    "name": "ipython",
    "version": 3
   },
   "file_extension": ".py",
   "mimetype": "text/x-python",
   "name": "python",
   "nbconvert_exporter": "python",
   "pygments_lexer": "ipython3",
   "version": "3.7.6"
  }
 },
 "nbformat": 4,
 "nbformat_minor": 4
}
