{
 "cells": [
  {
   "cell_type": "code",
   "execution_count": 4,
   "metadata": {},
   "outputs": [],
   "source": [
    "import pandas as pd\n",
    "df = pd.read_json (r'C:\\Users\\MEPI\\Desktop\\LAU\\Springg 2021\\CSC491\\Resume Extraction Project\\Resume.json',lines=True)\n",
    "df.to_csv (r'dataframe.csv', index = None)"
   ]
  },
  {
   "cell_type": "code",
   "execution_count": 5,
   "metadata": {},
   "outputs": [
    {
     "data": {
      "text/html": [
       "<div>\n",
       "<style scoped>\n",
       "    .dataframe tbody tr th:only-of-type {\n",
       "        vertical-align: middle;\n",
       "    }\n",
       "\n",
       "    .dataframe tbody tr th {\n",
       "        vertical-align: top;\n",
       "    }\n",
       "\n",
       "    .dataframe thead th {\n",
       "        text-align: right;\n",
       "    }\n",
       "</style>\n",
       "<table border=\"1\" class=\"dataframe\">\n",
       "  <thead>\n",
       "    <tr style=\"text-align: right;\">\n",
       "      <th></th>\n",
       "      <th>content</th>\n",
       "      <th>annotation</th>\n",
       "    </tr>\n",
       "  </thead>\n",
       "  <tbody>\n",
       "    <tr>\n",
       "      <th>0</th>\n",
       "      <td>Govardhana K\\nSenior Software Engineer\\n\\nBeng...</td>\n",
       "      <td>[{'label': ['Companies worked at'], 'points': ...</td>\n",
       "    </tr>\n",
       "    <tr>\n",
       "      <th>1</th>\n",
       "      <td>Harini Komaravelli\\nTest Analyst at Oracle, Hy...</td>\n",
       "      <td>[{'label': ['Companies worked at'], 'points': ...</td>\n",
       "    </tr>\n",
       "    <tr>\n",
       "      <th>2</th>\n",
       "      <td>Hartej Kathuria\\nData Analyst Intern - Oracle ...</td>\n",
       "      <td>[{'label': ['Skills'], 'points': [{'start': 22...</td>\n",
       "    </tr>\n",
       "    <tr>\n",
       "      <th>3</th>\n",
       "      <td>Ijas Nizamuddin\\nAssociate Consultant - State ...</td>\n",
       "      <td>[{'label': ['Skills'], 'points': [{'start': 46...</td>\n",
       "    </tr>\n",
       "    <tr>\n",
       "      <th>4</th>\n",
       "      <td>Imgeeyaul Ansari\\njava developer\\n\\nPune, Maha...</td>\n",
       "      <td>[{'label': ['Skills'], 'points': [{'start': 18...</td>\n",
       "    </tr>\n",
       "    <tr>\n",
       "      <th>...</th>\n",
       "      <td>...</td>\n",
       "      <td>...</td>\n",
       "    </tr>\n",
       "    <tr>\n",
       "      <th>195</th>\n",
       "      <td>Mansi Thanki\\nStudent\\n\\nJamnagar, Gujarat - E...</td>\n",
       "      <td>[{'label': ['College Name'], 'points': [{'star...</td>\n",
       "    </tr>\n",
       "    <tr>\n",
       "      <th>196</th>\n",
       "      <td>Anil Kumar\\nMicrosoft Azure (Basic Management)...</td>\n",
       "      <td>[{'label': ['Location'], 'points': [{'start': ...</td>\n",
       "    </tr>\n",
       "    <tr>\n",
       "      <th>197</th>\n",
       "      <td>Siddharth Choudhary\\nMicrosoft Office Suite - ...</td>\n",
       "      <td>[{'label': ['Skills'], 'points': [{'start': 78...</td>\n",
       "    </tr>\n",
       "    <tr>\n",
       "      <th>198</th>\n",
       "      <td>Valarmathi Dhandapani\\nInvestment Banking Oper...</td>\n",
       "      <td>[{'label': ['Skills'], 'points': [{'start': 92...</td>\n",
       "    </tr>\n",
       "    <tr>\n",
       "      <th>199</th>\n",
       "      <td>Pradeep Kumar\\nSecurity Analyst in Infosys - C...</td>\n",
       "      <td>[{'label': ['Skills'], 'points': [{'start': 58...</td>\n",
       "    </tr>\n",
       "  </tbody>\n",
       "</table>\n",
       "<p>200 rows × 2 columns</p>\n",
       "</div>"
      ],
      "text/plain": [
       "                                               content  \\\n",
       "0    Govardhana K\\nSenior Software Engineer\\n\\nBeng...   \n",
       "1    Harini Komaravelli\\nTest Analyst at Oracle, Hy...   \n",
       "2    Hartej Kathuria\\nData Analyst Intern - Oracle ...   \n",
       "3    Ijas Nizamuddin\\nAssociate Consultant - State ...   \n",
       "4    Imgeeyaul Ansari\\njava developer\\n\\nPune, Maha...   \n",
       "..                                                 ...   \n",
       "195  Mansi Thanki\\nStudent\\n\\nJamnagar, Gujarat - E...   \n",
       "196  Anil Kumar\\nMicrosoft Azure (Basic Management)...   \n",
       "197  Siddharth Choudhary\\nMicrosoft Office Suite - ...   \n",
       "198  Valarmathi Dhandapani\\nInvestment Banking Oper...   \n",
       "199  Pradeep Kumar\\nSecurity Analyst in Infosys - C...   \n",
       "\n",
       "                                            annotation  \n",
       "0    [{'label': ['Companies worked at'], 'points': ...  \n",
       "1    [{'label': ['Companies worked at'], 'points': ...  \n",
       "2    [{'label': ['Skills'], 'points': [{'start': 22...  \n",
       "3    [{'label': ['Skills'], 'points': [{'start': 46...  \n",
       "4    [{'label': ['Skills'], 'points': [{'start': 18...  \n",
       "..                                                 ...  \n",
       "195  [{'label': ['College Name'], 'points': [{'star...  \n",
       "196  [{'label': ['Location'], 'points': [{'start': ...  \n",
       "197  [{'label': ['Skills'], 'points': [{'start': 78...  \n",
       "198  [{'label': ['Skills'], 'points': [{'start': 92...  \n",
       "199  [{'label': ['Skills'], 'points': [{'start': 58...  \n",
       "\n",
       "[200 rows x 2 columns]"
      ]
     },
     "execution_count": 5,
     "metadata": {},
     "output_type": "execute_result"
    }
   ],
   "source": [
    "df"
   ]
  },
  {
   "cell_type": "code",
   "execution_count": 8,
   "metadata": {},
   "outputs": [
    {
     "data": {
      "text/plain": [
       "1106139"
      ]
     },
     "execution_count": 8,
     "metadata": {},
     "output_type": "execute_result"
    }
   ],
   "source": [
    "import os\n",
    "os.path.getsize(r'C:\\Users\\MEPI\\Desktop\\LAU\\Springg 2021\\CSC491\\Resume Extraction Project\\Resume.json')"
   ]
  },
  {
   "cell_type": "code",
   "execution_count": 12,
   "metadata": {},
   "outputs": [
    {
     "data": {
      "text/plain": [
       "[{'label': ['Companies worked at'],\n",
       "  'points': [{'start': 1749, 'end': 1754, 'text': 'Oracle'}]},\n",
       " {'label': ['Companies worked at'],\n",
       "  'points': [{'start': 1696, 'end': 1701, 'text': 'Oracle'}]},\n",
       " {'label': ['Companies worked at'],\n",
       "  'points': [{'start': 1417, 'end': 1422, 'text': 'Oracle'}]},\n",
       " {'label': ['Skills'],\n",
       "  'points': [{'start': 1356,\n",
       "    'end': 1792,\n",
       "    'text': 'Languages: Core Java, Go Lang, Data Structures & Algorithms, Oracle\\nPL-SQL programming, Sales Force with APEX.\\nTools: RADTool, Jdeveloper, NetBeans, Eclipse, SQL developer,\\nPL/SQL Developer, WinSCP, Putty\\nWeb Technologies: JavaScript, XML, HTML, Webservice\\n\\nOperating Systems: Linux, Windows\\nVersion control system SVN & Git-Hub\\nDatabases: Oracle\\nMiddleware: Web logic, OC4J\\nProduct FLEXCUBE: Oracle FLEXCUBE Versions 10.x, 11.x and 12.x'}]},\n",
       " {'label': ['Companies worked at'],\n",
       "  'points': [{'start': 1209, 'end': 1214, 'text': 'Oracle'}]},\n",
       " {'label': ['Skills'],\n",
       "  'points': [{'start': 1136,\n",
       "    'end': 1247,\n",
       "    'text': 'APEX. (Less than 1 year), Data Structures (3 years), FLEXCUBE (5 years), Oracle (5 years),\\nAlgorithms (3 years)\\n'}]},\n",
       " {'label': ['Graduation Year'],\n",
       "  'points': [{'start': 928, 'end': 931, 'text': '2012'}]},\n",
       " {'label': ['College Name'],\n",
       "  'points': [{'start': 858,\n",
       "    'end': 888,\n",
       "    'text': 'Adithya Institute of Technology'}]},\n",
       " {'label': ['Degree'],\n",
       "  'points': [{'start': 821,\n",
       "    'end': 855,\n",
       "    'text': 'B.E in Computer Science Engineering'}]},\n",
       " {'label': ['Graduation Year'],\n",
       "  'points': [{'start': 787, 'end': 790, 'text': '2012'}]},\n",
       " {'label': ['Companies worked at'],\n",
       "  'points': [{'start': 744, 'end': 749, 'text': 'Oracle'}]},\n",
       " {'label': ['Designation'],\n",
       "  'points': [{'start': 722, 'end': 741, 'text': 'Associate Consultant'}]},\n",
       " {'label': ['Companies worked at'],\n",
       "  'points': [{'start': 658, 'end': 663, 'text': 'Oracle'}]},\n",
       " {'label': ['Designation'],\n",
       "  'points': [{'start': 640, 'end': 655, 'text': 'Staff Consultant'}]},\n",
       " {'label': ['Companies worked at'],\n",
       "  'points': [{'start': 574, 'end': 579, 'text': 'Oracle'}]},\n",
       " {'label': ['Designation'],\n",
       "  'points': [{'start': 555, 'end': 572, 'text': 'Senior Consultant\\n'}]},\n",
       " {'label': ['Companies worked at'],\n",
       "  'points': [{'start': 470, 'end': 492, 'text': 'Cloud Lending Solutions'}]},\n",
       " {'label': ['Designation'],\n",
       "  'points': [{'start': 444,\n",
       "    'end': 468,\n",
       "    'text': 'Senior Software Engineer\\n'}]},\n",
       " {'label': ['Companies worked at'],\n",
       "  'points': [{'start': 308, 'end': 313, 'text': 'Oracle'}]},\n",
       " {'label': ['Companies worked at'],\n",
       "  'points': [{'start': 234, 'end': 239, 'text': 'Oracle'}]},\n",
       " {'label': ['Companies worked at'],\n",
       "  'points': [{'start': 175, 'end': 197, 'text': 'Cloud Lending Solutions'}]},\n",
       " {'label': ['Email Address'],\n",
       "  'points': [{'start': 93,\n",
       "    'end': 136,\n",
       "    'text': 'indeed.com/r/Govardhana-K/\\nb2de315d95905b68\\n'}]},\n",
       " {'label': ['Location'],\n",
       "  'points': [{'start': 39, 'end': 47, 'text': 'Bengaluru'}]},\n",
       " {'label': ['Designation'],\n",
       "  'points': [{'start': 13, 'end': 37, 'text': 'Senior Software Engineer\\n'}]},\n",
       " {'label': ['Name'],\n",
       "  'points': [{'start': 0, 'end': 11, 'text': 'Govardhana K'}]}]"
      ]
     },
     "execution_count": 12,
     "metadata": {},
     "output_type": "execute_result"
    }
   ],
   "source": [
    "df.iloc[0]['annotation']"
   ]
  },
  {
   "cell_type": "code",
   "execution_count": 14,
   "metadata": {},
   "outputs": [
    {
     "data": {
      "text/plain": [
       "'Govardhana K\\nSenior Software Engineer\\n\\nBengaluru, Karnataka, Karnataka - Email me on Indeed: indeed.com/r/Govardhana-K/\\nb2de315d95905b68\\n\\nTotal IT experience 5 Years 6 Months\\nCloud Lending Solutions INC 4 Month • Salesforce Developer\\nOracle 5 Years 2 Month • Core Java Developer\\nLanguages Core Java, Go Lang\\nOracle PL-SQL programming,\\nSales Force Developer with APEX.\\n\\nDesignations & Promotions\\n\\nWilling to relocate: Anywhere\\n\\nWORK EXPERIENCE\\n\\nSenior Software Engineer\\n\\nCloud Lending Solutions -  Bangalore, Karnataka -\\n\\nJanuary 2018 to Present\\n\\nPresent\\n\\nSenior Consultant\\n\\nOracle -  Bangalore, Karnataka -\\n\\nNovember 2016 to December 2017\\n\\nStaff Consultant\\n\\nOracle -  Bangalore, Karnataka -\\n\\nJanuary 2014 to October 2016\\n\\nAssociate Consultant\\n\\nOracle -  Bangalore, Karnataka -\\n\\nNovember 2012 to December 2013\\n\\nEDUCATION\\n\\nB.E in Computer Science Engineering\\n\\nAdithya Institute of Technology -  Tamil Nadu\\n\\nSeptember 2008 to June 2012\\n\\nhttps://www.indeed.com/r/Govardhana-K/b2de315d95905b68?isid=rex-download&ikw=download-top&co=IN\\nhttps://www.indeed.com/r/Govardhana-K/b2de315d95905b68?isid=rex-download&ikw=download-top&co=IN\\n\\n\\nSKILLS\\n\\nAPEX. (Less than 1 year), Data Structures (3 years), FLEXCUBE (5 years), Oracle (5 years),\\nAlgorithms (3 years)\\n\\nLINKS\\n\\nhttps://www.linkedin.com/in/govardhana-k-61024944/\\n\\nADDITIONAL INFORMATION\\n\\nTechnical Proficiency:\\n\\nLanguages: Core Java, Go Lang, Data Structures & Algorithms, Oracle\\nPL-SQL programming, Sales Force with APEX.\\nTools: RADTool, Jdeveloper, NetBeans, Eclipse, SQL developer,\\nPL/SQL Developer, WinSCP, Putty\\nWeb Technologies: JavaScript, XML, HTML, Webservice\\n\\nOperating Systems: Linux, Windows\\nVersion control system SVN & Git-Hub\\nDatabases: Oracle\\nMiddleware: Web logic, OC4J\\nProduct FLEXCUBE: Oracle FLEXCUBE Versions 10.x, 11.x and 12.x\\n\\nhttps://www.linkedin.com/in/govardhana-k-61024944/'"
      ]
     },
     "execution_count": 14,
     "metadata": {},
     "output_type": "execute_result"
    }
   ],
   "source": [
    "df.iloc[0]['content']"
   ]
  },
  {
   "cell_type": "code",
   "execution_count": null,
   "metadata": {},
   "outputs": [],
   "source": []
  }
 ],
 "metadata": {
  "kernelspec": {
   "display_name": "Python 3",
   "language": "python",
   "name": "python3"
  },
  "language_info": {
   "codemirror_mode": {
    "name": "ipython",
    "version": 3
   },
   "file_extension": ".py",
   "mimetype": "text/x-python",
   "name": "python",
   "nbconvert_exporter": "python",
   "pygments_lexer": "ipython3",
   "version": "3.7.6"
  }
 },
 "nbformat": 4,
 "nbformat_minor": 4
}
