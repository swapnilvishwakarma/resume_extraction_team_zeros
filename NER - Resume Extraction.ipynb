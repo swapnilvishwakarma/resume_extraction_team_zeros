{
  "nbformat": 4,
  "nbformat_minor": 0,
  "metadata": {
    "kernelspec": {
      "display_name": "Python 3",
      "language": "python",
      "name": "python3"
    },
    "language_info": {
      "codemirror_mode": {
        "name": "ipython",
        "version": 3
      },
      "file_extension": ".py",
      "mimetype": "text/x-python",
      "name": "python",
      "nbconvert_exporter": "python",
      "pygments_lexer": "ipython3",
      "version": "3.7.6"
    },
    "colab": {
      "name": "NER - Resume Extraction.ipynb",
      "provenance": []
    }
  },
  "cells": [
    {
      "cell_type": "code",
      "metadata": {
        "id": "-G4XfOoT_7X-"
      },
      "source": [
        "import pandas as pd\n",
        "df = pd.read_json ('/content/Resume.json',lines=True)\n",
        "df.to_csv ('dataframe.csv', index = None)"
      ],
      "execution_count": 1,
      "outputs": []
    },
    {
      "cell_type": "code",
      "metadata": {
        "colab": {
          "base_uri": "https://localhost:8080/",
          "height": 255
        },
        "id": "tY9BXj8t_7YQ",
        "outputId": "af6a83b6-c125-46c3-a1f1-257d7edffe7c"
      },
      "source": [
        "df.head()"
      ],
      "execution_count": 2,
      "outputs": [
        {
          "output_type": "execute_result",
          "data": {
            "text/html": [
              "<div>\n",
              "<style scoped>\n",
              "    .dataframe tbody tr th:only-of-type {\n",
              "        vertical-align: middle;\n",
              "    }\n",
              "\n",
              "    .dataframe tbody tr th {\n",
              "        vertical-align: top;\n",
              "    }\n",
              "\n",
              "    .dataframe thead th {\n",
              "        text-align: right;\n",
              "    }\n",
              "</style>\n",
              "<table border=\"1\" class=\"dataframe\">\n",
              "  <thead>\n",
              "    <tr style=\"text-align: right;\">\n",
              "      <th></th>\n",
              "      <th>content</th>\n",
              "      <th>annotation</th>\n",
              "    </tr>\n",
              "  </thead>\n",
              "  <tbody>\n",
              "    <tr>\n",
              "      <th>0</th>\n",
              "      <td>Govardhana K\\nSenior Software Engineer\\n\\nBeng...</td>\n",
              "      <td>[{'label': ['Companies worked at'], 'points': ...</td>\n",
              "    </tr>\n",
              "    <tr>\n",
              "      <th>1</th>\n",
              "      <td>Harini Komaravelli\\nTest Analyst at Oracle, Hy...</td>\n",
              "      <td>[{'label': ['Companies worked at'], 'points': ...</td>\n",
              "    </tr>\n",
              "    <tr>\n",
              "      <th>2</th>\n",
              "      <td>Hartej Kathuria\\nData Analyst Intern - Oracle ...</td>\n",
              "      <td>[{'label': ['Skills'], 'points': [{'start': 22...</td>\n",
              "    </tr>\n",
              "    <tr>\n",
              "      <th>3</th>\n",
              "      <td>Ijas Nizamuddin\\nAssociate Consultant - State ...</td>\n",
              "      <td>[{'label': ['Skills'], 'points': [{'start': 46...</td>\n",
              "    </tr>\n",
              "    <tr>\n",
              "      <th>4</th>\n",
              "      <td>Imgeeyaul Ansari\\njava developer\\n\\nPune, Maha...</td>\n",
              "      <td>[{'label': ['Skills'], 'points': [{'start': 18...</td>\n",
              "    </tr>\n",
              "  </tbody>\n",
              "</table>\n",
              "</div>"
            ],
            "text/plain": [
              "                                             content                                         annotation\n",
              "0  Govardhana K\\nSenior Software Engineer\\n\\nBeng...  [{'label': ['Companies worked at'], 'points': ...\n",
              "1  Harini Komaravelli\\nTest Analyst at Oracle, Hy...  [{'label': ['Companies worked at'], 'points': ...\n",
              "2  Hartej Kathuria\\nData Analyst Intern - Oracle ...  [{'label': ['Skills'], 'points': [{'start': 22...\n",
              "3  Ijas Nizamuddin\\nAssociate Consultant - State ...  [{'label': ['Skills'], 'points': [{'start': 46...\n",
              "4  Imgeeyaul Ansari\\njava developer\\n\\nPune, Maha...  [{'label': ['Skills'], 'points': [{'start': 18..."
            ]
          },
          "metadata": {
            "tags": []
          },
          "execution_count": 2
        }
      ]
    },
    {
      "cell_type": "code",
      "metadata": {
        "colab": {
          "base_uri": "https://localhost:8080/"
        },
        "id": "MBZaBFNnAc9k",
        "outputId": "115077f0-d93b-4f49-c2be-cedc0996a813"
      },
      "source": [
        "df.shape"
      ],
      "execution_count": 3,
      "outputs": [
        {
          "output_type": "execute_result",
          "data": {
            "text/plain": [
              "(200, 2)"
            ]
          },
          "metadata": {
            "tags": []
          },
          "execution_count": 3
        }
      ]
    },
    {
      "cell_type": "code",
      "metadata": {
        "colab": {
          "base_uri": "https://localhost:8080/"
        },
        "id": "JdQQcwasAc0Y",
        "outputId": "3e0b5e5b-4973-4e0b-cf09-fed57e042580"
      },
      "source": [
        "df.isnull().sum()"
      ],
      "execution_count": 4,
      "outputs": [
        {
          "output_type": "execute_result",
          "data": {
            "text/plain": [
              "content       0\n",
              "annotation    0\n",
              "dtype: int64"
            ]
          },
          "metadata": {
            "tags": []
          },
          "execution_count": 4
        }
      ]
    },
    {
      "cell_type": "code",
      "metadata": {
        "id": "HREZ3NV8AjJA"
      },
      "source": [
        "# Function to get the size of dataset\n",
        "\n",
        "def humanbytes(B):\n",
        "   'Return the given bytes as a human friendly KB, MB, GB, or TB string'\n",
        "   B = float(B)\n",
        "   KB = float(1024)\n",
        "   MB = float(KB ** 2) # 1,048,576\n",
        "   GB = float(KB ** 3) # 1,073,741,824\n",
        "   TB = float(KB ** 4) # 1,099,511,627,776\n",
        "\n",
        "   if B < KB:\n",
        "      return '{0} {1}'.format(B,'Bytes' if 0 == B > 1 else 'Byte')\n",
        "   elif KB <= B < MB:\n",
        "      return '{0:.2f} KB'.format(B/KB)\n",
        "   elif MB <= B < GB:\n",
        "      return '{0:.2f} MB'.format(B/MB)\n",
        "   elif GB <= B < TB:\n",
        "      return '{0:.2f} GB'.format(B/GB)\n",
        "   elif TB <= B:\n",
        "      return '{0:.2f} TB'.format(B/TB)"
      ],
      "execution_count": 5,
      "outputs": []
    },
    {
      "cell_type": "code",
      "metadata": {
        "colab": {
          "base_uri": "https://localhost:8080/"
        },
        "id": "1OZQoSTI_7YT",
        "outputId": "669a794d-d0b3-4a98-a64a-d6e910380892"
      },
      "source": [
        "size = df.memory_usage(deep=True).sum()\n",
        "file_size = humanbytes(size)\n",
        "print(file_size)"
      ],
      "execution_count": 6,
      "outputs": [
        {
          "output_type": "stream",
          "text": [
            "1.41 MB\n"
          ],
          "name": "stdout"
        }
      ]
    },
    {
      "cell_type": "code",
      "metadata": {
        "colab": {
          "base_uri": "https://localhost:8080/"
        },
        "id": "IIMeMq75_7YU",
        "outputId": "25cad9b5-e748-4682-f183-5c07398e814e"
      },
      "source": [
        "df.iloc[0]['annotation']"
      ],
      "execution_count": 7,
      "outputs": [
        {
          "output_type": "execute_result",
          "data": {
            "text/plain": [
              "[{'label': ['Companies worked at'],\n",
              "  'points': [{'end': 1754, 'start': 1749, 'text': 'Oracle'}]},\n",
              " {'label': ['Companies worked at'],\n",
              "  'points': [{'end': 1701, 'start': 1696, 'text': 'Oracle'}]},\n",
              " {'label': ['Companies worked at'],\n",
              "  'points': [{'end': 1422, 'start': 1417, 'text': 'Oracle'}]},\n",
              " {'label': ['Skills'],\n",
              "  'points': [{'end': 1792,\n",
              "    'start': 1356,\n",
              "    'text': 'Languages: Core Java, Go Lang, Data Structures & Algorithms, Oracle\\nPL-SQL programming, Sales Force with APEX.\\nTools: RADTool, Jdeveloper, NetBeans, Eclipse, SQL developer,\\nPL/SQL Developer, WinSCP, Putty\\nWeb Technologies: JavaScript, XML, HTML, Webservice\\n\\nOperating Systems: Linux, Windows\\nVersion control system SVN & Git-Hub\\nDatabases: Oracle\\nMiddleware: Web logic, OC4J\\nProduct FLEXCUBE: Oracle FLEXCUBE Versions 10.x, 11.x and 12.x'}]},\n",
              " {'label': ['Companies worked at'],\n",
              "  'points': [{'end': 1214, 'start': 1209, 'text': 'Oracle'}]},\n",
              " {'label': ['Skills'],\n",
              "  'points': [{'end': 1247,\n",
              "    'start': 1136,\n",
              "    'text': 'APEX. (Less than 1 year), Data Structures (3 years), FLEXCUBE (5 years), Oracle (5 years),\\nAlgorithms (3 years)\\n'}]},\n",
              " {'label': ['Graduation Year'],\n",
              "  'points': [{'end': 931, 'start': 928, 'text': '2012'}]},\n",
              " {'label': ['College Name'],\n",
              "  'points': [{'end': 888,\n",
              "    'start': 858,\n",
              "    'text': 'Adithya Institute of Technology'}]},\n",
              " {'label': ['Degree'],\n",
              "  'points': [{'end': 855,\n",
              "    'start': 821,\n",
              "    'text': 'B.E in Computer Science Engineering'}]},\n",
              " {'label': ['Graduation Year'],\n",
              "  'points': [{'end': 790, 'start': 787, 'text': '2012'}]},\n",
              " {'label': ['Companies worked at'],\n",
              "  'points': [{'end': 749, 'start': 744, 'text': 'Oracle'}]},\n",
              " {'label': ['Designation'],\n",
              "  'points': [{'end': 741, 'start': 722, 'text': 'Associate Consultant'}]},\n",
              " {'label': ['Companies worked at'],\n",
              "  'points': [{'end': 663, 'start': 658, 'text': 'Oracle'}]},\n",
              " {'label': ['Designation'],\n",
              "  'points': [{'end': 655, 'start': 640, 'text': 'Staff Consultant'}]},\n",
              " {'label': ['Companies worked at'],\n",
              "  'points': [{'end': 579, 'start': 574, 'text': 'Oracle'}]},\n",
              " {'label': ['Designation'],\n",
              "  'points': [{'end': 572, 'start': 555, 'text': 'Senior Consultant\\n'}]},\n",
              " {'label': ['Companies worked at'],\n",
              "  'points': [{'end': 492, 'start': 470, 'text': 'Cloud Lending Solutions'}]},\n",
              " {'label': ['Designation'],\n",
              "  'points': [{'end': 468,\n",
              "    'start': 444,\n",
              "    'text': 'Senior Software Engineer\\n'}]},\n",
              " {'label': ['Companies worked at'],\n",
              "  'points': [{'end': 313, 'start': 308, 'text': 'Oracle'}]},\n",
              " {'label': ['Companies worked at'],\n",
              "  'points': [{'end': 239, 'start': 234, 'text': 'Oracle'}]},\n",
              " {'label': ['Companies worked at'],\n",
              "  'points': [{'end': 197, 'start': 175, 'text': 'Cloud Lending Solutions'}]},\n",
              " {'label': ['Email Address'],\n",
              "  'points': [{'end': 136,\n",
              "    'start': 93,\n",
              "    'text': 'indeed.com/r/Govardhana-K/\\nb2de315d95905b68\\n'}]},\n",
              " {'label': ['Location'],\n",
              "  'points': [{'end': 47, 'start': 39, 'text': 'Bengaluru'}]},\n",
              " {'label': ['Designation'],\n",
              "  'points': [{'end': 37, 'start': 13, 'text': 'Senior Software Engineer\\n'}]},\n",
              " {'label': ['Name'],\n",
              "  'points': [{'end': 11, 'start': 0, 'text': 'Govardhana K'}]}]"
            ]
          },
          "metadata": {
            "tags": []
          },
          "execution_count": 7
        }
      ]
    },
    {
      "cell_type": "code",
      "metadata": {
        "colab": {
          "base_uri": "https://localhost:8080/",
          "height": 239
        },
        "id": "Kt6CZZlU_7YV",
        "outputId": "eee03eb6-78e9-4971-cfac-b49ac51e1162"
      },
      "source": [
        "df.iloc[0]['content']"
      ],
      "execution_count": 8,
      "outputs": [
        {
          "output_type": "execute_result",
          "data": {
            "application/vnd.google.colaboratory.intrinsic+json": {
              "type": "string"
            },
            "text/plain": [
              "'Govardhana K\\nSenior Software Engineer\\n\\nBengaluru, Karnataka, Karnataka - Email me on Indeed: indeed.com/r/Govardhana-K/\\nb2de315d95905b68\\n\\nTotal IT experience 5 Years 6 Months\\nCloud Lending Solutions INC 4 Month • Salesforce Developer\\nOracle 5 Years 2 Month • Core Java Developer\\nLanguages Core Java, Go Lang\\nOracle PL-SQL programming,\\nSales Force Developer with APEX.\\n\\nDesignations & Promotions\\n\\nWilling to relocate: Anywhere\\n\\nWORK EXPERIENCE\\n\\nSenior Software Engineer\\n\\nCloud Lending Solutions -  Bangalore, Karnataka -\\n\\nJanuary 2018 to Present\\n\\nPresent\\n\\nSenior Consultant\\n\\nOracle -  Bangalore, Karnataka -\\n\\nNovember 2016 to December 2017\\n\\nStaff Consultant\\n\\nOracle -  Bangalore, Karnataka -\\n\\nJanuary 2014 to October 2016\\n\\nAssociate Consultant\\n\\nOracle -  Bangalore, Karnataka -\\n\\nNovember 2012 to December 2013\\n\\nEDUCATION\\n\\nB.E in Computer Science Engineering\\n\\nAdithya Institute of Technology -  Tamil Nadu\\n\\nSeptember 2008 to June 2012\\n\\nhttps://www.indeed.com/r/Govardhana-K/b2de315d95905b68?isid=rex-download&ikw=download-top&co=IN\\nhttps://www.indeed.com/r/Govardhana-K/b2de315d95905b68?isid=rex-download&ikw=download-top&co=IN\\n\\n\\nSKILLS\\n\\nAPEX. (Less than 1 year), Data Structures (3 years), FLEXCUBE (5 years), Oracle (5 years),\\nAlgorithms (3 years)\\n\\nLINKS\\n\\nhttps://www.linkedin.com/in/govardhana-k-61024944/\\n\\nADDITIONAL INFORMATION\\n\\nTechnical Proficiency:\\n\\nLanguages: Core Java, Go Lang, Data Structures & Algorithms, Oracle\\nPL-SQL programming, Sales Force with APEX.\\nTools: RADTool, Jdeveloper, NetBeans, Eclipse, SQL developer,\\nPL/SQL Developer, WinSCP, Putty\\nWeb Technologies: JavaScript, XML, HTML, Webservice\\n\\nOperating Systems: Linux, Windows\\nVersion control system SVN & Git-Hub\\nDatabases: Oracle\\nMiddleware: Web logic, OC4J\\nProduct FLEXCUBE: Oracle FLEXCUBE Versions 10.x, 11.x and 12.x\\n\\nhttps://www.linkedin.com/in/govardhana-k-61024944/'"
            ]
          },
          "metadata": {
            "tags": []
          },
          "execution_count": 8
        }
      ]
    },
    {
      "cell_type": "code",
      "metadata": {
        "id": "1p-HINfF_7YW"
      },
      "source": [
        ""
      ],
      "execution_count": 8,
      "outputs": []
    }
  ]
}