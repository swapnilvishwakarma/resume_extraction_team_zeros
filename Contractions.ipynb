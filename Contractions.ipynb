{
  "nbformat": 4,
  "nbformat_minor": 0,
  "metadata": {
    "colab": {
      "name": "Contractions.ipynb",
      "provenance": [],
      "collapsed_sections": []
    },
    "kernelspec": {
      "name": "python3",
      "display_name": "Python 3"
    },
    "language_info": {
      "name": "python"
    }
  },
  "cells": [
    {
      "cell_type": "code",
      "metadata": {
        "id": "sbvIN82MHzMC"
      },
      "source": [
        "import numpy as np\n",
        "import pandas as pd\n",
        "# For regular expressions\n",
        "import re\n",
        "# For handling string\n",
        "import string"
      ],
      "execution_count": 1,
      "outputs": []
    },
    {
      "cell_type": "code",
      "metadata": {
        "colab": {
          "base_uri": "https://localhost:8080/",
          "height": 221
        },
        "id": "NXxqLtNiIEnz",
        "outputId": "5b73ffdd-3bb7-45d1-ebcc-75f12d8b16a3"
      },
      "source": [
        "# Importing dataset\n",
        "df = pd.read_json('Resume.json', lines=True)\n",
        "df.to_csv('dataframe.csv', index = None)\n",
        "print(f\"Shape of the dataset: {df.shape}\")\n",
        "df.head()"
      ],
      "execution_count": 2,
      "outputs": [
        {
          "output_type": "stream",
          "text": [
            "Shape of the dataset: (200, 2)\n"
          ],
          "name": "stdout"
        },
        {
          "output_type": "execute_result",
          "data": {
            "text/html": [
              "<div>\n",
              "<style scoped>\n",
              "    .dataframe tbody tr th:only-of-type {\n",
              "        vertical-align: middle;\n",
              "    }\n",
              "\n",
              "    .dataframe tbody tr th {\n",
              "        vertical-align: top;\n",
              "    }\n",
              "\n",
              "    .dataframe thead th {\n",
              "        text-align: right;\n",
              "    }\n",
              "</style>\n",
              "<table border=\"1\" class=\"dataframe\">\n",
              "  <thead>\n",
              "    <tr style=\"text-align: right;\">\n",
              "      <th></th>\n",
              "      <th>content</th>\n",
              "      <th>annotation</th>\n",
              "    </tr>\n",
              "  </thead>\n",
              "  <tbody>\n",
              "    <tr>\n",
              "      <th>0</th>\n",
              "      <td>Govardhana K\\nSenior Software Engineer\\n\\nBeng...</td>\n",
              "      <td>[{'label': ['Companies worked at'], 'points': ...</td>\n",
              "    </tr>\n",
              "    <tr>\n",
              "      <th>1</th>\n",
              "      <td>Harini Komaravelli\\nTest Analyst at Oracle, Hy...</td>\n",
              "      <td>[{'label': ['Companies worked at'], 'points': ...</td>\n",
              "    </tr>\n",
              "    <tr>\n",
              "      <th>2</th>\n",
              "      <td>Hartej Kathuria\\nData Analyst Intern - Oracle ...</td>\n",
              "      <td>[{'label': ['Skills'], 'points': [{'start': 22...</td>\n",
              "    </tr>\n",
              "    <tr>\n",
              "      <th>3</th>\n",
              "      <td>Ijas Nizamuddin\\nAssociate Consultant - State ...</td>\n",
              "      <td>[{'label': ['Skills'], 'points': [{'start': 46...</td>\n",
              "    </tr>\n",
              "    <tr>\n",
              "      <th>4</th>\n",
              "      <td>Imgeeyaul Ansari\\njava developer\\n\\nPune, Maha...</td>\n",
              "      <td>[{'label': ['Skills'], 'points': [{'start': 18...</td>\n",
              "    </tr>\n",
              "  </tbody>\n",
              "</table>\n",
              "</div>"
            ],
            "text/plain": [
              "                                             content                                         annotation\n",
              "0  Govardhana K\\nSenior Software Engineer\\n\\nBeng...  [{'label': ['Companies worked at'], 'points': ...\n",
              "1  Harini Komaravelli\\nTest Analyst at Oracle, Hy...  [{'label': ['Companies worked at'], 'points': ...\n",
              "2  Hartej Kathuria\\nData Analyst Intern - Oracle ...  [{'label': ['Skills'], 'points': [{'start': 22...\n",
              "3  Ijas Nizamuddin\\nAssociate Consultant - State ...  [{'label': ['Skills'], 'points': [{'start': 46...\n",
              "4  Imgeeyaul Ansari\\njava developer\\n\\nPune, Maha...  [{'label': ['Skills'], 'points': [{'start': 18..."
            ]
          },
          "metadata": {
            "tags": []
          },
          "execution_count": 2
        }
      ]
    },
    {
      "cell_type": "code",
      "metadata": {
        "colab": {
          "base_uri": "https://localhost:8080/"
        },
        "id": "WAHohmPTIZeE",
        "outputId": "2a2e5658-149d-483c-b070-7edd9400db62"
      },
      "source": [
        "df.isnull().sum()"
      ],
      "execution_count": 3,
      "outputs": [
        {
          "output_type": "execute_result",
          "data": {
            "text/plain": [
              "content       0\n",
              "annotation    0\n",
              "dtype: int64"
            ]
          },
          "metadata": {
            "tags": []
          },
          "execution_count": 3
        }
      ]
    },
    {
      "cell_type": "code",
      "metadata": {
        "id": "Ba2Pl25EMZJh"
      },
      "source": [
        "# Dictionary of English Contractions\n",
        "contractions_dict = { \"ain't\": \"are not\",\"aren't\": \"are not\",\n",
        "                     \"can't\": \"cannot\",\"can't've\": \"cannot have\",\n",
        "                     \"'cause\": \"because\",\"could've\": \"could have\",\"couldn't\": \"could not\",\n",
        "                     \"couldn't've\": \"could not have\", \"didn't\": \"did not\",\"doesn't\": \"does not\",\n",
        "                     \"don't\": \"do not\",\"hadn't\": \"had not\",\"hadn't've\": \"had not have\",\n",
        "                     \"hasn't\": \"has not\",\"haven't\": \"have not\",\"he'd\": \"he would\",\n",
        "                     \"he'd've\": \"he would have\",\"he'll\": \"he will\", \"he'll've\": \"he will have\",\n",
        "                     \"how'd\": \"how did\",\"how'd'y\": \"how do you\",\"how'll\": \"how will\",\n",
        "                     \"I'd\": \"I would\", \"I'd've\": \"I would have\",\"I'll\": \"I will\",\n",
        "                     \"I'll've\": \"I will have\",\"I'm\": \"I am\",\"I've\": \"I have\", \"isn't\": \"is not\",\n",
        "                     \"it'd\": \"it would\",\"it'd've\": \"it would have\",\"it'll\": \"it will\",\n",
        "                     \"it'll've\": \"it will have\", \"let's\": \"let us\",\"ma'am\": \"madam\",\n",
        "                     \"mayn't\": \"may not\",\"might've\": \"might have\",\"mightn't\": \"might not\", \n",
        "                     \"mightn't've\": \"might not have\",\"must've\": \"must have\",\"mustn't\": \"must not\",\n",
        "                     \"mustn't've\": \"must not have\", \"needn't\": \"need not\",\n",
        "                     \"needn't've\": \"need not have\",\"o'clock\": \"of the clock\",\"oughtn't\": \"ought not\",\n",
        "                     \"oughtn't've\": \"ought not have\",\"shan't\": \"shall not\",\"sha'n't\": \"shall not\",\n",
        "                     \"shan't've\": \"shall not have\",\"she'd\": \"she would\",\"she'd've\": \"she would have\",\n",
        "                     \"she'll\": \"she will\", \"she'll've\": \"she will have\",\"should've\": \"should have\",\n",
        "                     \"shouldn't\": \"should not\", \"shouldn't've\": \"should not have\",\"so've\": \"so have\",\n",
        "                     \"that'd\": \"that would\",\"that'd've\": \"that would have\", \"there'd\": \"there would\",\n",
        "                     \"there'd've\": \"there would have\", \"they'd\": \"they would\",\n",
        "                     \"they'd've\": \"they would have\",\"they'll\": \"they will\",\n",
        "                     \"they'll've\": \"they will have\", \"they're\": \"they are\",\"they've\": \"they have\",\n",
        "                     \"to've\": \"to have\",\"wasn't\": \"was not\",\"we'd\": \"we would\",\n",
        "                     \"we'd've\": \"we would have\",\"we'll\": \"we will\",\"we'll've\": \"we will have\",\n",
        "                     \"we're\": \"we are\",\"we've\": \"we have\", \"weren't\": \"were not\",\"what'll\": \"what will\",\n",
        "                     \"what'll've\": \"what will have\",\"what're\": \"what are\", \"what've\": \"what have\",\n",
        "                     \"when've\": \"when have\",\"where'd\": \"where did\", \"where've\": \"where have\",\n",
        "                     \"who'll\": \"who will\",\"who'll've\": \"who will have\",\"who've\": \"who have\",\n",
        "                     \"why've\": \"why have\",\"will've\": \"will have\",\"won't\": \"will not\",\n",
        "                     \"won't've\": \"will not have\", \"would've\": \"would have\",\"wouldn't\": \"would not\",\n",
        "                     \"wouldn't've\": \"would not have\",\"y'all\": \"you all\", \"y'all'd\": \"you all would\",\n",
        "                     \"y'all'd've\": \"you all would have\",\"y'all're\": \"you all are\",\n",
        "                     \"y'all've\": \"you all have\", \"you'd\": \"you would\",\"you'd've\": \"you would have\",\n",
        "                     \"you'll\": \"you will\",\"you'll've\": \"you will have\", \"you're\": \"you are\",\n",
        "                     \"you've\": \"you have\"}\n",
        "\n",
        "# Regular expression for finding contractions\n",
        "contractions_re=re.compile('(%s)' % '|'.join(contractions_dict.keys()))\n",
        "\n",
        "# Function for expanding contractions\n",
        "def expand_contractions(text, contractions_dict=contractions_dict):\n",
        "  def replace(match):\n",
        "    return contractions_dict[match.group(0)]\n",
        "  return contractions_re.sub(replace, text)\n",
        "\n",
        "# Expanding Contractions in the reviews\n",
        "df['content_new'] = df['content'].apply(lambda x:expand_contractions(x))"
      ],
      "execution_count": 4,
      "outputs": []
    },
    {
      "cell_type": "code",
      "metadata": {
        "colab": {
          "base_uri": "https://localhost:8080/",
          "height": 419
        },
        "id": "zPlazXAAM-f5",
        "outputId": "c7c85924-5e0e-405b-88bc-ba153df6b8d1"
      },
      "source": [
        "df"
      ],
      "execution_count": 6,
      "outputs": [
        {
          "output_type": "execute_result",
          "data": {
            "text/html": [
              "<div>\n",
              "<style scoped>\n",
              "    .dataframe tbody tr th:only-of-type {\n",
              "        vertical-align: middle;\n",
              "    }\n",
              "\n",
              "    .dataframe tbody tr th {\n",
              "        vertical-align: top;\n",
              "    }\n",
              "\n",
              "    .dataframe thead th {\n",
              "        text-align: right;\n",
              "    }\n",
              "</style>\n",
              "<table border=\"1\" class=\"dataframe\">\n",
              "  <thead>\n",
              "    <tr style=\"text-align: right;\">\n",
              "      <th></th>\n",
              "      <th>content</th>\n",
              "      <th>annotation</th>\n",
              "      <th>content_new</th>\n",
              "    </tr>\n",
              "  </thead>\n",
              "  <tbody>\n",
              "    <tr>\n",
              "      <th>0</th>\n",
              "      <td>Govardhana K\\nSenior Software Engineer\\n\\nBeng...</td>\n",
              "      <td>[{'label': ['Companies worked at'], 'points': ...</td>\n",
              "      <td>Govardhana K\\nSenior Software Engineer\\n\\nBeng...</td>\n",
              "    </tr>\n",
              "    <tr>\n",
              "      <th>1</th>\n",
              "      <td>Harini Komaravelli\\nTest Analyst at Oracle, Hy...</td>\n",
              "      <td>[{'label': ['Companies worked at'], 'points': ...</td>\n",
              "      <td>Harini Komaravelli\\nTest Analyst at Oracle, Hy...</td>\n",
              "    </tr>\n",
              "    <tr>\n",
              "      <th>2</th>\n",
              "      <td>Hartej Kathuria\\nData Analyst Intern - Oracle ...</td>\n",
              "      <td>[{'label': ['Skills'], 'points': [{'start': 22...</td>\n",
              "      <td>Hartej Kathuria\\nData Analyst Intern - Oracle ...</td>\n",
              "    </tr>\n",
              "    <tr>\n",
              "      <th>3</th>\n",
              "      <td>Ijas Nizamuddin\\nAssociate Consultant - State ...</td>\n",
              "      <td>[{'label': ['Skills'], 'points': [{'start': 46...</td>\n",
              "      <td>Ijas Nizamuddin\\nAssociate Consultant - State ...</td>\n",
              "    </tr>\n",
              "    <tr>\n",
              "      <th>4</th>\n",
              "      <td>Imgeeyaul Ansari\\njava developer\\n\\nPune, Maha...</td>\n",
              "      <td>[{'label': ['Skills'], 'points': [{'start': 18...</td>\n",
              "      <td>Imgeeyaul Ansari\\njava developer\\n\\nPune, Maha...</td>\n",
              "    </tr>\n",
              "    <tr>\n",
              "      <th>...</th>\n",
              "      <td>...</td>\n",
              "      <td>...</td>\n",
              "      <td>...</td>\n",
              "    </tr>\n",
              "    <tr>\n",
              "      <th>195</th>\n",
              "      <td>Mansi Thanki\\nStudent\\n\\nJamnagar, Gujarat - E...</td>\n",
              "      <td>[{'label': ['College Name'], 'points': [{'star...</td>\n",
              "      <td>Mansi Thanki\\nStudent\\n\\nJamnagar, Gujarat - E...</td>\n",
              "    </tr>\n",
              "    <tr>\n",
              "      <th>196</th>\n",
              "      <td>Anil Kumar\\nMicrosoft Azure (Basic Management)...</td>\n",
              "      <td>[{'label': ['Location'], 'points': [{'start': ...</td>\n",
              "      <td>Anil Kumar\\nMicrosoft Azure (Basic Management)...</td>\n",
              "    </tr>\n",
              "    <tr>\n",
              "      <th>197</th>\n",
              "      <td>Siddharth Choudhary\\nMicrosoft Office Suite - ...</td>\n",
              "      <td>[{'label': ['Skills'], 'points': [{'start': 78...</td>\n",
              "      <td>Siddharth Choudhary\\nMicrosoft Office Suite - ...</td>\n",
              "    </tr>\n",
              "    <tr>\n",
              "      <th>198</th>\n",
              "      <td>Valarmathi Dhandapani\\nInvestment Banking Oper...</td>\n",
              "      <td>[{'label': ['Skills'], 'points': [{'start': 92...</td>\n",
              "      <td>Valarmathi Dhandapani\\nInvestment Banking Oper...</td>\n",
              "    </tr>\n",
              "    <tr>\n",
              "      <th>199</th>\n",
              "      <td>Pradeep Kumar\\nSecurity Analyst in Infosys - C...</td>\n",
              "      <td>[{'label': ['Skills'], 'points': [{'start': 58...</td>\n",
              "      <td>Pradeep Kumar\\nSecurity Analyst in Infosys - C...</td>\n",
              "    </tr>\n",
              "  </tbody>\n",
              "</table>\n",
              "<p>200 rows × 3 columns</p>\n",
              "</div>"
            ],
            "text/plain": [
              "                                               content  ...                                        content_new\n",
              "0    Govardhana K\\nSenior Software Engineer\\n\\nBeng...  ...  Govardhana K\\nSenior Software Engineer\\n\\nBeng...\n",
              "1    Harini Komaravelli\\nTest Analyst at Oracle, Hy...  ...  Harini Komaravelli\\nTest Analyst at Oracle, Hy...\n",
              "2    Hartej Kathuria\\nData Analyst Intern - Oracle ...  ...  Hartej Kathuria\\nData Analyst Intern - Oracle ...\n",
              "3    Ijas Nizamuddin\\nAssociate Consultant - State ...  ...  Ijas Nizamuddin\\nAssociate Consultant - State ...\n",
              "4    Imgeeyaul Ansari\\njava developer\\n\\nPune, Maha...  ...  Imgeeyaul Ansari\\njava developer\\n\\nPune, Maha...\n",
              "..                                                 ...  ...                                                ...\n",
              "195  Mansi Thanki\\nStudent\\n\\nJamnagar, Gujarat - E...  ...  Mansi Thanki\\nStudent\\n\\nJamnagar, Gujarat - E...\n",
              "196  Anil Kumar\\nMicrosoft Azure (Basic Management)...  ...  Anil Kumar\\nMicrosoft Azure (Basic Management)...\n",
              "197  Siddharth Choudhary\\nMicrosoft Office Suite - ...  ...  Siddharth Choudhary\\nMicrosoft Office Suite - ...\n",
              "198  Valarmathi Dhandapani\\nInvestment Banking Oper...  ...  Valarmathi Dhandapani\\nInvestment Banking Oper...\n",
              "199  Pradeep Kumar\\nSecurity Analyst in Infosys - C...  ...  Pradeep Kumar\\nSecurity Analyst in Infosys - C...\n",
              "\n",
              "[200 rows x 3 columns]"
            ]
          },
          "metadata": {
            "tags": []
          },
          "execution_count": 6
        }
      ]
    },
    {
      "cell_type": "code",
      "metadata": {
        "colab": {
          "base_uri": "https://localhost:8080/"
        },
        "id": "iKlCXm71NHBl",
        "outputId": "9d2e0f89-251d-4457-8af7-f2dd933bac82"
      },
      "source": [
        "df['content'] == df['content_new']"
      ],
      "execution_count": 7,
      "outputs": [
        {
          "output_type": "execute_result",
          "data": {
            "text/plain": [
              "0      True\n",
              "1      True\n",
              "2      True\n",
              "3      True\n",
              "4      True\n",
              "       ... \n",
              "195    True\n",
              "196    True\n",
              "197    True\n",
              "198    True\n",
              "199    True\n",
              "Length: 200, dtype: bool"
            ]
          },
          "metadata": {
            "tags": []
          },
          "execution_count": 7
        }
      ]
    },
    {
      "cell_type": "code",
      "metadata": {
        "colab": {
          "base_uri": "https://localhost:8080/",
          "height": 204
        },
        "id": "BdeCqeR9NQUO",
        "outputId": "b2955d5b-2361-4bab-fec6-3df9196d7907"
      },
      "source": [
        "# Lowercase\n",
        "df['content_new']=df['content_new'].apply(lambda x: x.lower())\n",
        "df.head()"
      ],
      "execution_count": 8,
      "outputs": [
        {
          "output_type": "execute_result",
          "data": {
            "text/html": [
              "<div>\n",
              "<style scoped>\n",
              "    .dataframe tbody tr th:only-of-type {\n",
              "        vertical-align: middle;\n",
              "    }\n",
              "\n",
              "    .dataframe tbody tr th {\n",
              "        vertical-align: top;\n",
              "    }\n",
              "\n",
              "    .dataframe thead th {\n",
              "        text-align: right;\n",
              "    }\n",
              "</style>\n",
              "<table border=\"1\" class=\"dataframe\">\n",
              "  <thead>\n",
              "    <tr style=\"text-align: right;\">\n",
              "      <th></th>\n",
              "      <th>content</th>\n",
              "      <th>annotation</th>\n",
              "      <th>content_new</th>\n",
              "    </tr>\n",
              "  </thead>\n",
              "  <tbody>\n",
              "    <tr>\n",
              "      <th>0</th>\n",
              "      <td>Govardhana K\\nSenior Software Engineer\\n\\nBeng...</td>\n",
              "      <td>[{'label': ['Companies worked at'], 'points': ...</td>\n",
              "      <td>govardhana k\\nsenior software engineer\\n\\nbeng...</td>\n",
              "    </tr>\n",
              "    <tr>\n",
              "      <th>1</th>\n",
              "      <td>Harini Komaravelli\\nTest Analyst at Oracle, Hy...</td>\n",
              "      <td>[{'label': ['Companies worked at'], 'points': ...</td>\n",
              "      <td>harini komaravelli\\ntest analyst at oracle, hy...</td>\n",
              "    </tr>\n",
              "    <tr>\n",
              "      <th>2</th>\n",
              "      <td>Hartej Kathuria\\nData Analyst Intern - Oracle ...</td>\n",
              "      <td>[{'label': ['Skills'], 'points': [{'start': 22...</td>\n",
              "      <td>hartej kathuria\\ndata analyst intern - oracle ...</td>\n",
              "    </tr>\n",
              "    <tr>\n",
              "      <th>3</th>\n",
              "      <td>Ijas Nizamuddin\\nAssociate Consultant - State ...</td>\n",
              "      <td>[{'label': ['Skills'], 'points': [{'start': 46...</td>\n",
              "      <td>ijas nizamuddin\\nassociate consultant - state ...</td>\n",
              "    </tr>\n",
              "    <tr>\n",
              "      <th>4</th>\n",
              "      <td>Imgeeyaul Ansari\\njava developer\\n\\nPune, Maha...</td>\n",
              "      <td>[{'label': ['Skills'], 'points': [{'start': 18...</td>\n",
              "      <td>imgeeyaul ansari\\njava developer\\n\\npune, maha...</td>\n",
              "    </tr>\n",
              "  </tbody>\n",
              "</table>\n",
              "</div>"
            ],
            "text/plain": [
              "                                             content  ...                                        content_new\n",
              "0  Govardhana K\\nSenior Software Engineer\\n\\nBeng...  ...  govardhana k\\nsenior software engineer\\n\\nbeng...\n",
              "1  Harini Komaravelli\\nTest Analyst at Oracle, Hy...  ...  harini komaravelli\\ntest analyst at oracle, hy...\n",
              "2  Hartej Kathuria\\nData Analyst Intern - Oracle ...  ...  hartej kathuria\\ndata analyst intern - oracle ...\n",
              "3  Ijas Nizamuddin\\nAssociate Consultant - State ...  ...  ijas nizamuddin\\nassociate consultant - state ...\n",
              "4  Imgeeyaul Ansari\\njava developer\\n\\nPune, Maha...  ...  imgeeyaul ansari\\njava developer\\n\\npune, maha...\n",
              "\n",
              "[5 rows x 3 columns]"
            ]
          },
          "metadata": {
            "tags": []
          },
          "execution_count": 8
        }
      ]
    },
    {
      "cell_type": "code",
      "metadata": {
        "id": "CG8Farph3T02",
        "colab": {
          "base_uri": "https://localhost:8080/",
          "height": 239
        },
        "outputId": "b72214fc-81f0-4055-dcd7-0371f73a556f"
      },
      "source": [
        "df['content_new'][0]"
      ],
      "execution_count": 9,
      "outputs": [
        {
          "output_type": "execute_result",
          "data": {
            "application/vnd.google.colaboratory.intrinsic+json": {
              "type": "string"
            },
            "text/plain": [
              "'govardhana k\\nsenior software engineer\\n\\nbengaluru, karnataka, karnataka - email me on indeed: indeed.com/r/govardhana-k/\\nb2de315d95905b68\\n\\ntotal it experience 5 years 6 months\\ncloud lending solutions inc 4 month • salesforce developer\\noracle 5 years 2 month • core java developer\\nlanguages core java, go lang\\noracle pl-sql programming,\\nsales force developer with apex.\\n\\ndesignations & promotions\\n\\nwilling to relocate: anywhere\\n\\nwork experience\\n\\nsenior software engineer\\n\\ncloud lending solutions -  bangalore, karnataka -\\n\\njanuary 2018 to present\\n\\npresent\\n\\nsenior consultant\\n\\noracle -  bangalore, karnataka -\\n\\nnovember 2016 to december 2017\\n\\nstaff consultant\\n\\noracle -  bangalore, karnataka -\\n\\njanuary 2014 to october 2016\\n\\nassociate consultant\\n\\noracle -  bangalore, karnataka -\\n\\nnovember 2012 to december 2013\\n\\neducation\\n\\nb.e in computer science engineering\\n\\nadithya institute of technology -  tamil nadu\\n\\nseptember 2008 to june 2012\\n\\nhttps://www.indeed.com/r/govardhana-k/b2de315d95905b68?isid=rex-download&ikw=download-top&co=in\\nhttps://www.indeed.com/r/govardhana-k/b2de315d95905b68?isid=rex-download&ikw=download-top&co=in\\n\\n\\nskills\\n\\napex. (less than 1 year), data structures (3 years), flexcube (5 years), oracle (5 years),\\nalgorithms (3 years)\\n\\nlinks\\n\\nhttps://www.linkedin.com/in/govardhana-k-61024944/\\n\\nadditional information\\n\\ntechnical proficiency:\\n\\nlanguages: core java, go lang, data structures & algorithms, oracle\\npl-sql programming, sales force with apex.\\ntools: radtool, jdeveloper, netbeans, eclipse, sql developer,\\npl/sql developer, winscp, putty\\nweb technologies: javascript, xml, html, webservice\\n\\noperating systems: linux, windows\\nversion control system svn & git-hub\\ndatabases: oracle\\nmiddleware: web logic, oc4j\\nproduct flexcube: oracle flexcube versions 10.x, 11.x and 12.x\\n\\nhttps://www.linkedin.com/in/govardhana-k-61024944/'"
            ]
          },
          "metadata": {
            "tags": []
          },
          "execution_count": 9
        }
      ]
    },
    {
      "cell_type": "code",
      "metadata": {
        "colab": {
          "base_uri": "https://localhost:8080/",
          "height": 222
        },
        "id": "baOeGSjOPnuv",
        "outputId": "5744bf54-6df7-42b8-cfe5-994a74f7107a"
      },
      "source": [
        "# Removing extra spaces\n",
        "df['content_new']=df['content_new'].apply(lambda x: re.sub(' +',' ',x))\n",
        "df['content_new'][0]"
      ],
      "execution_count": 10,
      "outputs": [
        {
          "output_type": "execute_result",
          "data": {
            "application/vnd.google.colaboratory.intrinsic+json": {
              "type": "string"
            },
            "text/plain": [
              "'govardhana k\\nsenior software engineer\\n\\nbengaluru, karnataka, karnataka - email me on indeed: indeed.com/r/govardhana-k/\\nb2de315d95905b68\\n\\ntotal it experience 5 years 6 months\\ncloud lending solutions inc 4 month • salesforce developer\\noracle 5 years 2 month • core java developer\\nlanguages core java, go lang\\noracle pl-sql programming,\\nsales force developer with apex.\\n\\ndesignations & promotions\\n\\nwilling to relocate: anywhere\\n\\nwork experience\\n\\nsenior software engineer\\n\\ncloud lending solutions - bangalore, karnataka -\\n\\njanuary 2018 to present\\n\\npresent\\n\\nsenior consultant\\n\\noracle - bangalore, karnataka -\\n\\nnovember 2016 to december 2017\\n\\nstaff consultant\\n\\noracle - bangalore, karnataka -\\n\\njanuary 2014 to october 2016\\n\\nassociate consultant\\n\\noracle - bangalore, karnataka -\\n\\nnovember 2012 to december 2013\\n\\neducation\\n\\nb.e in computer science engineering\\n\\nadithya institute of technology - tamil nadu\\n\\nseptember 2008 to june 2012\\n\\nhttps://www.indeed.com/r/govardhana-k/b2de315d95905b68?isid=rex-download&ikw=download-top&co=in\\nhttps://www.indeed.com/r/govardhana-k/b2de315d95905b68?isid=rex-download&ikw=download-top&co=in\\n\\n\\nskills\\n\\napex. (less than 1 year), data structures (3 years), flexcube (5 years), oracle (5 years),\\nalgorithms (3 years)\\n\\nlinks\\n\\nhttps://www.linkedin.com/in/govardhana-k-61024944/\\n\\nadditional information\\n\\ntechnical proficiency:\\n\\nlanguages: core java, go lang, data structures & algorithms, oracle\\npl-sql programming, sales force with apex.\\ntools: radtool, jdeveloper, netbeans, eclipse, sql developer,\\npl/sql developer, winscp, putty\\nweb technologies: javascript, xml, html, webservice\\n\\noperating systems: linux, windows\\nversion control system svn & git-hub\\ndatabases: oracle\\nmiddleware: web logic, oc4j\\nproduct flexcube: oracle flexcube versions 10.x, 11.x and 12.x\\n\\nhttps://www.linkedin.com/in/govardhana-k-61024944/'"
            ]
          },
          "metadata": {
            "tags": []
          },
          "execution_count": 10
        }
      ]
    },
    {
      "cell_type": "code",
      "metadata": {
        "id": "HoyqeDXrbKPt"
      },
      "source": [
        ""
      ],
      "execution_count": null,
      "outputs": []
    }
  ]
}