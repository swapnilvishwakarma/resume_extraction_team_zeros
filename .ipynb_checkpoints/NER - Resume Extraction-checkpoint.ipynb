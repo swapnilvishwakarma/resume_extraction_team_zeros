{
 "cells": [
  {
   "cell_type": "code",
   "execution_count": 104,
   "metadata": {},
   "outputs": [],
   "source": [
    "import pandas as pd\n",
    "import numpy as np\n",
    "import logging\n",
    "import subprocess\n",
    "import gc\n",
    "import re\n",
    "from schema import Schema, SchemaError\n",
    "import os\n",
    "import yaml"
   ]
  },
  {
   "cell_type": "code",
   "execution_count": 105,
   "metadata": {},
   "outputs": [
    {
     "name": "stdout",
     "output_type": "stream",
     "text": [
      "Overwriting testutility.py\n"
     ]
    }
   ],
   "source": [
    "%%writefile testutility.py\n",
    "\n",
    "def read_yml_file(file_path):\n",
    "    with open(file_path, 'r') as stream:\n",
    "        try:\n",
    "            return yaml.load(stream)\n",
    "        except yaml.YAMLError as exec:\n",
    "            logging.error(exec)\n",
    "\n",
    "def replacer(string, char):\n",
    "    pattern = char + '{2,}'\n",
    "    string = re.sub(pattern, char, string)\n",
    "    return string\n",
    "\n",
    "def col_validate(df, col_config):\n",
    "    cols = df.columns\n",
    "    cols = cols.str.replace(' ', '_')\n",
    "    cols = list(map(lambda x: replacer(x, '_'), list(cols)))\n",
    "    expected_cols = list(map(lambda x: x.lower(), col_config['columns']))\n",
    "    cols = list(map(lambda x: x.lower(), list(cols)))\n",
    "    \n",
    "    if len(cols) == len(expected_cols) and list(cols) == list(expected_cols):\n",
    "        print(\"\\nColumn name and column length are successfully validated!\")\n",
    "        return 1\n",
    "\n",
    "    else:\n",
    "        print(\"Column name and column length have not passed the validation test\")\n",
    "        mismatched_columns = list(set(colms).difference(expected_col))\n",
    "        print(\"The following columns are missing from the YAML file\", mismatched_columns)\n",
    "        missing_file = list(set(expected_col).difference(colms))\n",
    "        print(\"The followning columns are missing from the file uploaded\", missing_file)\n",
    "        logging.info(f'df columns: {colms}')\n",
    "        logging.info(f'expected columns: {expected_col}')\n",
    "        return 0"
   ]
  },
  {
   "cell_type": "markdown",
   "metadata": {},
   "source": [
    "### Writing the YAML File"
   ]
  },
  {
   "cell_type": "code",
   "execution_count": 106,
   "metadata": {},
   "outputs": [
    {
     "name": "stdout",
     "output_type": "stream",
     "text": [
      "Overwriting dataset.yaml\n"
     ]
    }
   ],
   "source": [
    "%%writefile dataset.yaml\n",
    "file_type: json\n",
    "dataset_name: resumes\n",
    "file_name: Resume\n",
    "table_name: resumes\n",
    "inbound_delimiter: \",\"\n",
    "outbound_delimiter: \"\\n\"\n",
    "columns:\n",
    " - content\n",
    " - annotation"
   ]
  },
  {
   "cell_type": "markdown",
   "metadata": {
    "id": "-G4XfOoT_7X-"
   },
   "source": [
    "### Reading the .json file, converting it to a .csv file and adding it to a dataframe"
   ]
  },
  {
   "cell_type": "code",
   "execution_count": 107,
   "metadata": {},
   "outputs": [],
   "source": [
    "#data = pd.read_json ('Resume.json',lines=True)\n",
    "#data.to_csv ('dataframe.csv', index = None)"
   ]
  },
  {
   "cell_type": "markdown",
   "metadata": {},
   "source": [
    "### File Ingestion and Schema Validation"
   ]
  },
  {
   "cell_type": "markdown",
   "metadata": {},
   "source": [
    "#### Reading the Configuration File"
   ]
  },
  {
   "cell_type": "code",
   "execution_count": 108,
   "metadata": {},
   "outputs": [
    {
     "ename": "NameError",
     "evalue": "name 'yaml' is not defined",
     "output_type": "error",
     "traceback": [
      "\u001b[1;31m---------------------------------------------------------------------------\u001b[0m",
      "\u001b[1;31mNameError\u001b[0m                                 Traceback (most recent call last)",
      "\u001b[1;32m~\\Documents\\GitHub\\resume_extraction_team_zeros\\testutility.py\u001b[0m in \u001b[0;36mread_yml_file\u001b[1;34m(file_path)\u001b[0m\n\u001b[0;32m      4\u001b[0m         \u001b[1;32mtry\u001b[0m\u001b[1;33m:\u001b[0m\u001b[1;33m\u001b[0m\u001b[1;33m\u001b[0m\u001b[0m\n\u001b[1;32m----> 5\u001b[1;33m             \u001b[1;32mreturn\u001b[0m \u001b[0myaml\u001b[0m\u001b[1;33m.\u001b[0m\u001b[0mload\u001b[0m\u001b[1;33m(\u001b[0m\u001b[0mstream\u001b[0m\u001b[1;33m)\u001b[0m\u001b[1;33m\u001b[0m\u001b[1;33m\u001b[0m\u001b[0m\n\u001b[0m\u001b[0;32m      6\u001b[0m         \u001b[1;32mexcept\u001b[0m \u001b[0myaml\u001b[0m\u001b[1;33m.\u001b[0m\u001b[0mYAMLError\u001b[0m \u001b[1;32mas\u001b[0m \u001b[0mexec\u001b[0m\u001b[1;33m:\u001b[0m\u001b[1;33m\u001b[0m\u001b[1;33m\u001b[0m\u001b[0m\n",
      "\u001b[1;31mNameError\u001b[0m: name 'yaml' is not defined",
      "\nDuring handling of the above exception, another exception occurred:\n",
      "\u001b[1;31mNameError\u001b[0m                                 Traceback (most recent call last)",
      "\u001b[1;32m<ipython-input-108-1fb1f4745906>\u001b[0m in \u001b[0;36m<module>\u001b[1;34m\u001b[0m\n\u001b[0;32m      1\u001b[0m \u001b[1;32mimport\u001b[0m \u001b[0mtestutility\u001b[0m \u001b[1;32mas\u001b[0m \u001b[0mutil\u001b[0m\u001b[1;33m\u001b[0m\u001b[1;33m\u001b[0m\u001b[0m\n\u001b[1;32m----> 2\u001b[1;33m \u001b[0mconfig_data\u001b[0m \u001b[1;33m=\u001b[0m \u001b[0mutil\u001b[0m\u001b[1;33m.\u001b[0m\u001b[0mread_yml_file\u001b[0m\u001b[1;33m(\u001b[0m\u001b[1;34m\"dataset.yaml\"\u001b[0m\u001b[1;33m)\u001b[0m\u001b[1;33m\u001b[0m\u001b[1;33m\u001b[0m\u001b[0m\n\u001b[0m",
      "\u001b[1;32m~\\Documents\\GitHub\\resume_extraction_team_zeros\\testutility.py\u001b[0m in \u001b[0;36mread_yml_file\u001b[1;34m(file_path)\u001b[0m\n\u001b[0;32m      4\u001b[0m         \u001b[1;32mtry\u001b[0m\u001b[1;33m:\u001b[0m\u001b[1;33m\u001b[0m\u001b[1;33m\u001b[0m\u001b[0m\n\u001b[0;32m      5\u001b[0m             \u001b[1;32mreturn\u001b[0m \u001b[0myaml\u001b[0m\u001b[1;33m.\u001b[0m\u001b[0mload\u001b[0m\u001b[1;33m(\u001b[0m\u001b[0mstream\u001b[0m\u001b[1;33m)\u001b[0m\u001b[1;33m\u001b[0m\u001b[1;33m\u001b[0m\u001b[0m\n\u001b[1;32m----> 6\u001b[1;33m         \u001b[1;32mexcept\u001b[0m \u001b[0myaml\u001b[0m\u001b[1;33m.\u001b[0m\u001b[0mYAMLError\u001b[0m \u001b[1;32mas\u001b[0m \u001b[0mexec\u001b[0m\u001b[1;33m:\u001b[0m\u001b[1;33m\u001b[0m\u001b[1;33m\u001b[0m\u001b[0m\n\u001b[0m\u001b[0;32m      7\u001b[0m             \u001b[0mlogging\u001b[0m\u001b[1;33m.\u001b[0m\u001b[0merror\u001b[0m\u001b[1;33m(\u001b[0m\u001b[0mexec\u001b[0m\u001b[1;33m)\u001b[0m\u001b[1;33m\u001b[0m\u001b[1;33m\u001b[0m\u001b[0m\n\u001b[0;32m      8\u001b[0m \u001b[1;33m\u001b[0m\u001b[0m\n",
      "\u001b[1;31mNameError\u001b[0m: name 'yaml' is not defined"
     ]
    }
   ],
   "source": [
    "import testutility as util \n",
    "config_data = util.read_yml_file(\"dataset.yaml\")"
   ]
  },
  {
   "cell_type": "code",
   "execution_count": 109,
   "metadata": {},
   "outputs": [
    {
     "ename": "NameError",
     "evalue": "name 'config_data' is not defined",
     "output_type": "error",
     "traceback": [
      "\u001b[1;31m---------------------------------------------------------------------------\u001b[0m",
      "\u001b[1;31mNameError\u001b[0m                                 Traceback (most recent call last)",
      "\u001b[1;32m<ipython-input-109-b9650b1aeb6f>\u001b[0m in \u001b[0;36m<module>\u001b[1;34m\u001b[0m\n\u001b[1;32m----> 1\u001b[1;33m \u001b[0msrc_file\u001b[0m \u001b[1;33m=\u001b[0m \u001b[1;34m\"./\"\u001b[0m\u001b[1;33m+\u001b[0m\u001b[0mconfig_data\u001b[0m\u001b[1;33m[\u001b[0m\u001b[1;34m'file_name'\u001b[0m\u001b[1;33m]\u001b[0m\u001b[1;33m+\u001b[0m\u001b[1;34m\".\"\u001b[0m\u001b[1;33m+\u001b[0m\u001b[0mconfig_data\u001b[0m\u001b[1;33m[\u001b[0m\u001b[1;34m'file_type'\u001b[0m\u001b[1;33m]\u001b[0m\u001b[1;33m\u001b[0m\u001b[1;33m\u001b[0m\u001b[0m\n\u001b[0m\u001b[0;32m      2\u001b[0m \u001b[0mdata\u001b[0m \u001b[1;33m=\u001b[0m \u001b[0mpd\u001b[0m\u001b[1;33m.\u001b[0m\u001b[0mread_json\u001b[0m \u001b[1;33m(\u001b[0m\u001b[1;34m'src_file'\u001b[0m\u001b[1;33m,\u001b[0m\u001b[0mlines\u001b[0m\u001b[1;33m=\u001b[0m\u001b[1;32mTrue\u001b[0m\u001b[1;33m)\u001b[0m\u001b[1;33m\u001b[0m\u001b[1;33m\u001b[0m\u001b[0m\n\u001b[0;32m      3\u001b[0m \u001b[0mdata\u001b[0m\u001b[1;33m.\u001b[0m\u001b[0mto_csv\u001b[0m \u001b[1;33m(\u001b[0m\u001b[1;34m'dataframe.csv'\u001b[0m\u001b[1;33m,\u001b[0m \u001b[0mindex\u001b[0m \u001b[1;33m=\u001b[0m \u001b[1;32mNone\u001b[0m\u001b[1;33m)\u001b[0m\u001b[1;33m\u001b[0m\u001b[1;33m\u001b[0m\u001b[0m\n\u001b[0;32m      4\u001b[0m \u001b[0mdata\u001b[0m\u001b[1;33m.\u001b[0m\u001b[0mhead\u001b[0m\u001b[1;33m(\u001b[0m\u001b[1;33m)\u001b[0m\u001b[1;33m\u001b[0m\u001b[1;33m\u001b[0m\u001b[0m\n",
      "\u001b[1;31mNameError\u001b[0m: name 'config_data' is not defined"
     ]
    }
   ],
   "source": [
    "src_file = \"./\"+config_data['file_name']+\".\"+config_data['file_type']\n",
    "data = pd.read_json ('src_file',lines=True)\n",
    "data.to_csv ('dataframe.csv', index = None)\n",
    "data.head()"
   ]
  },
  {
   "cell_type": "code",
   "execution_count": null,
   "metadata": {},
   "outputs": [],
   "source": [
    "### rest of the code......"
   ]
  },
  {
   "cell_type": "code",
   "execution_count": 45,
   "metadata": {
    "colab": {
     "base_uri": "https://localhost:8080/",
     "height": 255
    },
    "id": "tY9BXj8t_7YQ",
    "outputId": "af6a83b6-c125-46c3-a1f1-257d7edffe7c"
   },
   "outputs": [
    {
     "data": {
      "text/html": [
       "<div>\n",
       "<style scoped>\n",
       "    .dataframe tbody tr th:only-of-type {\n",
       "        vertical-align: middle;\n",
       "    }\n",
       "\n",
       "    .dataframe tbody tr th {\n",
       "        vertical-align: top;\n",
       "    }\n",
       "\n",
       "    .dataframe thead th {\n",
       "        text-align: right;\n",
       "    }\n",
       "</style>\n",
       "<table border=\"1\" class=\"dataframe\">\n",
       "  <thead>\n",
       "    <tr style=\"text-align: right;\">\n",
       "      <th></th>\n",
       "      <th>content</th>\n",
       "      <th>annotation</th>\n",
       "    </tr>\n",
       "  </thead>\n",
       "  <tbody>\n",
       "    <tr>\n",
       "      <th>0</th>\n",
       "      <td>Govardhana K\\nSenior Software Engineer\\n\\nBeng...</td>\n",
       "      <td>[{'label': ['Companies worked at'], 'points': ...</td>\n",
       "    </tr>\n",
       "    <tr>\n",
       "      <th>1</th>\n",
       "      <td>Harini Komaravelli\\nTest Analyst at Oracle, Hy...</td>\n",
       "      <td>[{'label': ['Companies worked at'], 'points': ...</td>\n",
       "    </tr>\n",
       "    <tr>\n",
       "      <th>2</th>\n",
       "      <td>Hartej Kathuria\\nData Analyst Intern - Oracle ...</td>\n",
       "      <td>[{'label': ['Skills'], 'points': [{'start': 22...</td>\n",
       "    </tr>\n",
       "    <tr>\n",
       "      <th>3</th>\n",
       "      <td>Ijas Nizamuddin\\nAssociate Consultant - State ...</td>\n",
       "      <td>[{'label': ['Skills'], 'points': [{'start': 46...</td>\n",
       "    </tr>\n",
       "    <tr>\n",
       "      <th>4</th>\n",
       "      <td>Imgeeyaul Ansari\\njava developer\\n\\nPune, Maha...</td>\n",
       "      <td>[{'label': ['Skills'], 'points': [{'start': 18...</td>\n",
       "    </tr>\n",
       "  </tbody>\n",
       "</table>\n",
       "</div>"
      ],
      "text/plain": [
       "                                             content  \\\n",
       "0  Govardhana K\\nSenior Software Engineer\\n\\nBeng...   \n",
       "1  Harini Komaravelli\\nTest Analyst at Oracle, Hy...   \n",
       "2  Hartej Kathuria\\nData Analyst Intern - Oracle ...   \n",
       "3  Ijas Nizamuddin\\nAssociate Consultant - State ...   \n",
       "4  Imgeeyaul Ansari\\njava developer\\n\\nPune, Maha...   \n",
       "\n",
       "                                          annotation  \n",
       "0  [{'label': ['Companies worked at'], 'points': ...  \n",
       "1  [{'label': ['Companies worked at'], 'points': ...  \n",
       "2  [{'label': ['Skills'], 'points': [{'start': 22...  \n",
       "3  [{'label': ['Skills'], 'points': [{'start': 46...  \n",
       "4  [{'label': ['Skills'], 'points': [{'start': 18...  "
      ]
     },
     "execution_count": 45,
     "metadata": {},
     "output_type": "execute_result"
    }
   ],
   "source": [
    "data.head()"
   ]
  },
  {
   "cell_type": "code",
   "execution_count": 5,
   "metadata": {
    "colab": {
     "base_uri": "https://localhost:8080/"
    },
    "id": "MBZaBFNnAc9k",
    "outputId": "115077f0-d93b-4f49-c2be-cedc0996a813"
   },
   "outputs": [
    {
     "data": {
      "text/plain": [
       "(200, 2)"
      ]
     },
     "execution_count": 5,
     "metadata": {},
     "output_type": "execute_result"
    }
   ],
   "source": [
    "data.shape"
   ]
  },
  {
   "cell_type": "code",
   "execution_count": 6,
   "metadata": {
    "colab": {
     "base_uri": "https://localhost:8080/"
    },
    "id": "JdQQcwasAc0Y",
    "outputId": "3e0b5e5b-4973-4e0b-cf09-fed57e042580"
   },
   "outputs": [
    {
     "data": {
      "text/plain": [
       "content       0\n",
       "annotation    0\n",
       "dtype: int64"
      ]
     },
     "execution_count": 6,
     "metadata": {},
     "output_type": "execute_result"
    }
   ],
   "source": [
    "data.isnull().sum()"
   ]
  },
  {
   "cell_type": "code",
   "execution_count": 7,
   "metadata": {
    "id": "HREZ3NV8AjJA"
   },
   "outputs": [],
   "source": [
    "# Function to get the size of dataset\n",
    "\n",
    "def humanbytes(B):\n",
    "   'Return the given bytes as a human friendly KB, MB, GB, or TB string'\n",
    "   B = float(B)\n",
    "   KB = float(1024)\n",
    "   MB = float(KB ** 2) # 1,048,576\n",
    "   GB = float(KB ** 3) # 1,073,741,824\n",
    "   TB = float(KB ** 4) # 1,099,511,627,776\n",
    "\n",
    "   if B < KB:\n",
    "      return '{0} {1}'.format(B,'Bytes' if 0 == B > 1 else 'Byte')\n",
    "   elif KB <= B < MB:\n",
    "      return '{0:.2f} KB'.format(B/KB)\n",
    "   elif MB <= B < GB:\n",
    "      return '{0:.2f} MB'.format(B/MB)\n",
    "   elif GB <= B < TB:\n",
    "      return '{0:.2f} GB'.format(B/GB)\n",
    "   elif TB <= B:\n",
    "      return '{0:.2f} TB'.format(B/TB)"
   ]
  },
  {
   "cell_type": "code",
   "execution_count": 8,
   "metadata": {
    "colab": {
     "base_uri": "https://localhost:8080/"
    },
    "id": "1OZQoSTI_7YT",
    "outputId": "669a794d-d0b3-4a98-a64a-d6e910380892"
   },
   "outputs": [
    {
     "name": "stdout",
     "output_type": "stream",
     "text": [
      "1.41 MB\n"
     ]
    }
   ],
   "source": [
    "size = data.memory_usage(deep=True).sum()\n",
    "file_size = humanbytes(size)\n",
    "print(file_size)"
   ]
  },
  {
   "cell_type": "code",
   "execution_count": 9,
   "metadata": {
    "colab": {
     "base_uri": "https://localhost:8080/"
    },
    "id": "IIMeMq75_7YU",
    "outputId": "25cad9b5-e748-4682-f183-5c07398e814e"
   },
   "outputs": [
    {
     "data": {
      "text/plain": [
       "[{'label': ['Companies worked at'],\n",
       "  'points': [{'start': 1749, 'end': 1754, 'text': 'Oracle'}]},\n",
       " {'label': ['Companies worked at'],\n",
       "  'points': [{'start': 1696, 'end': 1701, 'text': 'Oracle'}]},\n",
       " {'label': ['Companies worked at'],\n",
       "  'points': [{'start': 1417, 'end': 1422, 'text': 'Oracle'}]},\n",
       " {'label': ['Skills'],\n",
       "  'points': [{'start': 1356,\n",
       "    'end': 1792,\n",
       "    'text': 'Languages: Core Java, Go Lang, Data Structures & Algorithms, Oracle\\nPL-SQL programming, Sales Force with APEX.\\nTools: RADTool, Jdeveloper, NetBeans, Eclipse, SQL developer,\\nPL/SQL Developer, WinSCP, Putty\\nWeb Technologies: JavaScript, XML, HTML, Webservice\\n\\nOperating Systems: Linux, Windows\\nVersion control system SVN & Git-Hub\\nDatabases: Oracle\\nMiddleware: Web logic, OC4J\\nProduct FLEXCUBE: Oracle FLEXCUBE Versions 10.x, 11.x and 12.x'}]},\n",
       " {'label': ['Companies worked at'],\n",
       "  'points': [{'start': 1209, 'end': 1214, 'text': 'Oracle'}]},\n",
       " {'label': ['Skills'],\n",
       "  'points': [{'start': 1136,\n",
       "    'end': 1247,\n",
       "    'text': 'APEX. (Less than 1 year), Data Structures (3 years), FLEXCUBE (5 years), Oracle (5 years),\\nAlgorithms (3 years)\\n'}]},\n",
       " {'label': ['Graduation Year'],\n",
       "  'points': [{'start': 928, 'end': 931, 'text': '2012'}]},\n",
       " {'label': ['College Name'],\n",
       "  'points': [{'start': 858,\n",
       "    'end': 888,\n",
       "    'text': 'Adithya Institute of Technology'}]},\n",
       " {'label': ['Degree'],\n",
       "  'points': [{'start': 821,\n",
       "    'end': 855,\n",
       "    'text': 'B.E in Computer Science Engineering'}]},\n",
       " {'label': ['Graduation Year'],\n",
       "  'points': [{'start': 787, 'end': 790, 'text': '2012'}]},\n",
       " {'label': ['Companies worked at'],\n",
       "  'points': [{'start': 744, 'end': 749, 'text': 'Oracle'}]},\n",
       " {'label': ['Designation'],\n",
       "  'points': [{'start': 722, 'end': 741, 'text': 'Associate Consultant'}]},\n",
       " {'label': ['Companies worked at'],\n",
       "  'points': [{'start': 658, 'end': 663, 'text': 'Oracle'}]},\n",
       " {'label': ['Designation'],\n",
       "  'points': [{'start': 640, 'end': 655, 'text': 'Staff Consultant'}]},\n",
       " {'label': ['Companies worked at'],\n",
       "  'points': [{'start': 574, 'end': 579, 'text': 'Oracle'}]},\n",
       " {'label': ['Designation'],\n",
       "  'points': [{'start': 555, 'end': 572, 'text': 'Senior Consultant\\n'}]},\n",
       " {'label': ['Companies worked at'],\n",
       "  'points': [{'start': 470, 'end': 492, 'text': 'Cloud Lending Solutions'}]},\n",
       " {'label': ['Designation'],\n",
       "  'points': [{'start': 444,\n",
       "    'end': 468,\n",
       "    'text': 'Senior Software Engineer\\n'}]},\n",
       " {'label': ['Companies worked at'],\n",
       "  'points': [{'start': 308, 'end': 313, 'text': 'Oracle'}]},\n",
       " {'label': ['Companies worked at'],\n",
       "  'points': [{'start': 234, 'end': 239, 'text': 'Oracle'}]},\n",
       " {'label': ['Companies worked at'],\n",
       "  'points': [{'start': 175, 'end': 197, 'text': 'Cloud Lending Solutions'}]},\n",
       " {'label': ['Email Address'],\n",
       "  'points': [{'start': 93,\n",
       "    'end': 136,\n",
       "    'text': 'indeed.com/r/Govardhana-K/\\nb2de315d95905b68\\n'}]},\n",
       " {'label': ['Location'],\n",
       "  'points': [{'start': 39, 'end': 47, 'text': 'Bengaluru'}]},\n",
       " {'label': ['Designation'],\n",
       "  'points': [{'start': 13, 'end': 37, 'text': 'Senior Software Engineer\\n'}]},\n",
       " {'label': ['Name'],\n",
       "  'points': [{'start': 0, 'end': 11, 'text': 'Govardhana K'}]}]"
      ]
     },
     "execution_count": 9,
     "metadata": {},
     "output_type": "execute_result"
    }
   ],
   "source": [
    "data.iloc[0]['annotation']"
   ]
  },
  {
   "cell_type": "code",
   "execution_count": 10,
   "metadata": {
    "colab": {
     "base_uri": "https://localhost:8080/",
     "height": 239
    },
    "id": "Kt6CZZlU_7YV",
    "outputId": "eee03eb6-78e9-4971-cfac-b49ac51e1162"
   },
   "outputs": [
    {
     "data": {
      "text/plain": [
       "'Govardhana K\\nSenior Software Engineer\\n\\nBengaluru, Karnataka, Karnataka - Email me on Indeed: indeed.com/r/Govardhana-K/\\nb2de315d95905b68\\n\\nTotal IT experience 5 Years 6 Months\\nCloud Lending Solutions INC 4 Month • Salesforce Developer\\nOracle 5 Years 2 Month • Core Java Developer\\nLanguages Core Java, Go Lang\\nOracle PL-SQL programming,\\nSales Force Developer with APEX.\\n\\nDesignations & Promotions\\n\\nWilling to relocate: Anywhere\\n\\nWORK EXPERIENCE\\n\\nSenior Software Engineer\\n\\nCloud Lending Solutions -  Bangalore, Karnataka -\\n\\nJanuary 2018 to Present\\n\\nPresent\\n\\nSenior Consultant\\n\\nOracle -  Bangalore, Karnataka -\\n\\nNovember 2016 to December 2017\\n\\nStaff Consultant\\n\\nOracle -  Bangalore, Karnataka -\\n\\nJanuary 2014 to October 2016\\n\\nAssociate Consultant\\n\\nOracle -  Bangalore, Karnataka -\\n\\nNovember 2012 to December 2013\\n\\nEDUCATION\\n\\nB.E in Computer Science Engineering\\n\\nAdithya Institute of Technology -  Tamil Nadu\\n\\nSeptember 2008 to June 2012\\n\\nhttps://www.indeed.com/r/Govardhana-K/b2de315d95905b68?isid=rex-download&ikw=download-top&co=IN\\nhttps://www.indeed.com/r/Govardhana-K/b2de315d95905b68?isid=rex-download&ikw=download-top&co=IN\\n\\n\\nSKILLS\\n\\nAPEX. (Less than 1 year), Data Structures (3 years), FLEXCUBE (5 years), Oracle (5 years),\\nAlgorithms (3 years)\\n\\nLINKS\\n\\nhttps://www.linkedin.com/in/govardhana-k-61024944/\\n\\nADDITIONAL INFORMATION\\n\\nTechnical Proficiency:\\n\\nLanguages: Core Java, Go Lang, Data Structures & Algorithms, Oracle\\nPL-SQL programming, Sales Force with APEX.\\nTools: RADTool, Jdeveloper, NetBeans, Eclipse, SQL developer,\\nPL/SQL Developer, WinSCP, Putty\\nWeb Technologies: JavaScript, XML, HTML, Webservice\\n\\nOperating Systems: Linux, Windows\\nVersion control system SVN & Git-Hub\\nDatabases: Oracle\\nMiddleware: Web logic, OC4J\\nProduct FLEXCUBE: Oracle FLEXCUBE Versions 10.x, 11.x and 12.x\\n\\nhttps://www.linkedin.com/in/govardhana-k-61024944/'"
      ]
     },
     "execution_count": 10,
     "metadata": {},
     "output_type": "execute_result"
    }
   ],
   "source": [
    "data.iloc[0]['content']"
   ]
  },
  {
   "cell_type": "code",
   "execution_count": 8,
   "metadata": {
    "id": "1p-HINfF_7YW"
   },
   "outputs": [],
   "source": []
  }
 ],
 "metadata": {
  "colab": {
   "name": "NER - Resume Extraction.ipynb",
   "provenance": []
  },
  "kernelspec": {
   "display_name": "Python 3",
   "language": "python",
   "name": "python3"
  },
  "language_info": {
   "codemirror_mode": {
    "name": "ipython",
    "version": 3
   },
   "file_extension": ".py",
   "mimetype": "text/x-python",
   "name": "python",
   "nbconvert_exporter": "python",
   "pygments_lexer": "ipython3",
   "version": "3.7.6"
  }
 },
 "nbformat": 4,
 "nbformat_minor": 1
}
